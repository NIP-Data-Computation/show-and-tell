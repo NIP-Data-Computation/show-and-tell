{
  "nbformat": 4,
  "nbformat_minor": 0,
  "metadata": {
    "colab": {
      "name": "piercel_week2_application.ipynb",
      "provenance": [],
      "collapsed_sections": [],
      "authorship_tag": "ABX9TyNlShlZC23vcPSCVxfAgpXj",
      "include_colab_link": true
    },
    "kernelspec": {
      "name": "python3",
      "display_name": "Python 3"
    }
  },
  "cells": [
    {
      "cell_type": "markdown",
      "metadata": {
        "id": "view-in-github",
        "colab_type": "text"
      },
      "source": [
        "<a href=\"https://colab.research.google.com/github/NIP-Data-Computation/show-and-tell/blob/master/piercel_week2_application.ipynb\" target=\"_parent\"><img src=\"https://colab.research.google.com/assets/colab-badge.svg\" alt=\"Open In Colab\"/></a>"
      ]
    },
    {
      "cell_type": "markdown",
      "metadata": {
        "id": "FK-0Hqt0wZ5q",
        "colab_type": "text"
      },
      "source": [
        "**Author**: Pierce Lopez <br>\n",
        "**Date Created**: August 15, 2020 <br>\n",
        "**Last Updated**: August 16, 2020 <br> \n",
        "**Description**: Contains some applications of Week 2 lessons on the Customs dataset. "
      ]
    },
    {
      "cell_type": "markdown",
      "metadata": {
        "id": "V8-b2Ne-whcW",
        "colab_type": "text"
      },
      "source": [
        "Some preliminary notes about the Customs dataset columns: \n",
        "\n",
        "<br>\n",
        "\n",
        "<ins>*Identification Variables*</ins>: <br>\n",
        "**uid** - unique identification number for each import transaction <br>\n",
        "* 2012-2013 format: yyyyqq nnnnnnnn (i.e. 2012q1 00000001): quarterly <br>\n",
        "* 2014-2019 format: yyyymm nnnnnnnn (i.e. 201401 00000001): monthly\n",
        "\n",
        "<ins>*Time Variables*</ins>: <br>\n",
        "**ty** - year of import transaction <br>\n",
        "**tq** - year and quarter of import transaction\n",
        "* human readable format: yyyyqn (i.e 2012q1 - first quarter of 2012) <br>\n",
        "\n",
        "**tm** - year and month of import transaction\n",
        "* human readable format: yyyymn (i.e. 2014m10 - October 2012(?) 2014)\n",
        "* NOTE: blank for 2012-2013 since data was recorded quarterly\n",
        "\n",
        "<ins>*Entry Type Variables*</ins>: <br>\n",
        "**entry** - act, documentation, and process of bringing imported goods into the customs territory\n",
        "* C - consumption: domestic use; tax imposed\n",
        "* W - customs bonded warehousing: kept and exempted from duties and taxes\n",
        "* T - transshipment or transit: further shipped to another port/country\n",
        "* C-Temp - consumption-temporary\n",
        "* . - unspecified or missing entry: August 2014; September 2017 - December 2019\n",
        "  * 2012-2013 (import entries assumed to be C)\n",
        "\n",
        "<ins>*Product Variables*</ins>: <br>\n",
        "**hscode** - 11-digit product classification of a good; marker of imposed tariffs\n",
        "* i.e. 10 - cereals\n",
        "  * 1006 - rice\n",
        "  * 100610 - rice in the husk\n",
        "\n",
        "**goodsdescription** - description of the imported goods\n",
        "\n",
        "<ins>*Price Variables*</ins>: <br>\n",
        "**p** - USD price per kg of import transaction.\n",
        "\n",
        "<ins>*Quantity Variables*</ins>: <br>\n",
        "**q** - mass of import transaction in kg\n",
        "\n",
        "<ins>*Value Variables*</ins>: <br>\n",
        "**m_fob** - USD free on board value estimate of the import transaction <br>\n",
        "**m_cif** - USD cost, insurance, and freight value estimate of the import transaction <br>\n",
        "**fx_usd** - weighted average exchange rate from foreign currency units (FCU) to USD for a given time period\n",
        "* 2012-2013: quarterly\n",
        "* 2014-2019: monthly\n",
        "\n",
        "**dutiablevalueforeign** - dutiable import value \n",
        "* can be estimated by adding customsvalue, freight, and insurance\n",
        "\n",
        "**exchangerate** - exchange rate from FCU to PHP <br>\n",
        "**currency** - the denomination currency of the import transaction <br>\n",
        "**dutiablevaluephp** - dutiable import value in PHP\n",
        "\n",
        "<ins>*Duty and Tax Variables*</ins>: <br>\n",
        "**dutypaid** - customs duties paid on the transaction in PHP <br>\n",
        "**exciseadvalorem** - excise and/or ad valorem taxes paid on the transaction in PHP <br>\n",
        "**arrastre** - amount in PHP owner has to pay for handling, receiving, and custody of their merchandise <br>\n",
        "**wharfage** - port facility usage fee in PHP <br>\n",
        "**vatbase** - value-added tax base in PHP\n",
        "* can be estimated by adding dutiablevaluephp, dutypaid, exciseadvalorem, arrastre, wharfage, and other charges <br>\n",
        "\n",
        "**vatpaid** - value-added tax paid on the transaction in PHP <br>\n",
        "**othertax** - other taxes paid on the transaction in PHP <br>\n",
        "**finesandpenalties** - fines and penalties paid on the transaction in PHP <br>\n",
        "**dutiestaxes** - total duties and taxes paid on the transaction in PHP\n",
        "* can be estimated by adding dutypaid, exciseadvalorem, vatpaid, finesandpenalties, and othertax\n",
        "\n",
        "<ins>*Trade Agreement Variables*</ins>: <br>\n",
        "**prefcode** - preferential trade agreement used for the transaction\n",
        "* AFTA:\t ASEAN Free Trade\n",
        "* ACFTA:\t ASEAN-China Free Trade Agreement\n",
        "* JPEPA:\t Philippines-Japan Economic Partnership Agreement\n",
        "* ANFTA:\t ASEAN-Australia-New Zealand Free Trade Agreement\n",
        "* AKFTA:\t ASEAN-Korea Free Trade Agreement\n",
        "* BOI:\t Board of Investments\n",
        "* AFMA:\t (?) Agriculture and Fisheries Modernization Act (?)\n",
        "* AIFTA:\t ASEAN-India Free Trade Agreement\n",
        "* AJCEP:\t ASEAN-Japan Comprehensive Economic Partnership Agreement\n",
        "* EFTA:\t Philippines-European Free Trade Association Free Trade Agreement\n",
        "* AICO:\t ASEAN Industrial Cooperation Scheme\n",
        "* APTA:\t (?) Asia Pacific Trade Agreement (?)\n",
        "* AIJV:\t ASEAN Industrial Joint Venture\n",
        "\n",
        "<ins>*Country Variables*</ins>: <br>\n",
        "**countryorigin_iso3** - country of origin of the transaction <br>\n",
        "**countryexport_iso3** - country of export of the transaction\n",
        "\n",
        "<ins>*Port Variables*</ins>: <br>\n",
        "**subport** - name of subport of entry <br>\n",
        "**port** - name of major port of entry"
      ]
    },
    {
      "cell_type": "code",
      "metadata": {
        "id": "IbhJFB8dwWWy",
        "colab_type": "code",
        "colab": {
          "base_uri": "https://localhost:8080/",
          "height": 122
        },
        "outputId": "a91bb2b0-acfb-4047-dc76-2c476d2f58ad"
      },
      "source": [
        "# mount drive\n",
        "from google.colab import drive\n",
        "drive.mount(\"/content/drive\")"
      ],
      "execution_count": 2,
      "outputs": [
        {
          "output_type": "stream",
          "text": [
            "Go to this URL in a browser: https://accounts.google.com/o/oauth2/auth?client_id=947318989803-6bn6qk8qdgf4n4g3pfee6491hc0brc4i.apps.googleusercontent.com&redirect_uri=urn%3aietf%3awg%3aoauth%3a2.0%3aoob&scope=email%20https%3a%2f%2fwww.googleapis.com%2fauth%2fdocs.test%20https%3a%2f%2fwww.googleapis.com%2fauth%2fdrive%20https%3a%2f%2fwww.googleapis.com%2fauth%2fdrive.photos.readonly%20https%3a%2f%2fwww.googleapis.com%2fauth%2fpeopleapi.readonly&response_type=code\n",
            "\n",
            "Enter your authorization code:\n",
            "··········\n",
            "Mounted at /content/drive\n"
          ],
          "name": "stdout"
        }
      ]
    },
    {
      "cell_type": "code",
      "metadata": {
        "id": "6xesQAf-S-Ku",
        "colab_type": "code",
        "colab": {
          "base_uri": "https://localhost:8080/",
          "height": 68
        },
        "outputId": "7ad00c6f-f58b-49d6-9502-92854e362e87"
      },
      "source": [
        "# check if the directories and files exist in My Drive\n",
        "!ls drive/My\\ Drive/NIP-Data-Computation-Group-Drive/Datasets/PHL\\ Customs\\ Open\\ Data/clean/csv"
      ],
      "execution_count": null,
      "outputs": [
        {
          "output_type": "stream",
          "text": [
            "boc_lite_2012_2019_top9_hscode.csv  boc_lite_2014.csv  boc_lite_2017.csv\n",
            "boc_lite_2012.csv\t\t    boc_lite_2015.csv  boc_lite_2018.csv\n",
            "boc_lite_2013.csv\t\t    boc_lite_2016.csv  boc_lite_2019.csv\n"
          ],
          "name": "stdout"
        }
      ]
    },
    {
      "cell_type": "code",
      "metadata": {
        "id": "0psCGNC1TDwM",
        "colab_type": "code",
        "colab": {
          "base_uri": "https://localhost:8080/",
          "height": 34
        },
        "outputId": "db8acb12-173a-4218-eb8c-8a471330dbb6"
      },
      "source": [
        "%cd drive/My\\ Drive/NIP-Data-Computation-Group-Drive/Datasets/PHL\\ Customs\\ Open\\ Data/clean/csv"
      ],
      "execution_count": 1,
      "outputs": [
        {
          "output_type": "stream",
          "text": [
            "/content/drive/.shortcut-targets-by-id/1pfxnf06OodnUo3H4NgkxVN6pA2FI9hh_/NIP-Data-Computation-Group-Drive/Datasets/PHL Customs Open Data/clean/csv\n"
          ],
          "name": "stdout"
        }
      ]
    },
    {
      "cell_type": "code",
      "metadata": {
        "id": "YKxFwU4FTN0z",
        "colab_type": "code",
        "colab": {}
      },
      "source": [
        "# import necessary modules\n",
        "import numpy as np\n",
        "import matplotlib.pyplot as plt\n",
        "import pandas as pd\n",
        "import glob\n",
        "import random\n",
        "import gc"
      ],
      "execution_count": 5,
      "outputs": []
    },
    {
      "cell_type": "markdown",
      "metadata": {
        "id": "UFMHk-xF0um-",
        "colab_type": "text"
      },
      "source": [
        "***Focusing on a dataset first***"
      ]
    },
    {
      "cell_type": "code",
      "metadata": {
        "id": "nVRwKA2kVAA-",
        "colab_type": "code",
        "colab": {
          "base_uri": "https://localhost:8080/",
          "height": 71
        },
        "outputId": "57a3fbf0-e36d-4f9c-983f-8a4b97c5d3de"
      },
      "source": [
        "# load the 2016 dataset\n",
        "dat2016 = pd.read_csv(\"boc_lite_2016.csv\", encoding = \"ISO-8859-1\")"
      ],
      "execution_count": 3,
      "outputs": [
        {
          "output_type": "stream",
          "text": [
            "/usr/local/lib/python3.6/dist-packages/IPython/core/interactiveshell.py:2718: DtypeWarning: Columns (25) have mixed types.Specify dtype option on import or set low_memory=False.\n",
            "  interactivity=interactivity, compiler=compiler, result=result)\n"
          ],
          "name": "stderr"
        }
      ]
    },
    {
      "cell_type": "code",
      "metadata": {
        "id": "kT3hoawTVj9N",
        "colab_type": "code",
        "colab": {
          "base_uri": "https://localhost:8080/",
          "height": 935
        },
        "outputId": "efac1737-8084-49ad-f8a7-ad11cf36d79b"
      },
      "source": [
        "# info regarding the dataset\n",
        "print(dat2016.info())\n",
        "\n",
        "# first and last few rows of the dataset\n",
        "print(dat2016.head())\n",
        "print(dat2016.tail())"
      ],
      "execution_count": null,
      "outputs": [
        {
          "output_type": "stream",
          "text": [
            "<class 'pandas.core.frame.DataFrame'>\n",
            "RangeIndex: 3140436 entries, 0 to 3140435\n",
            "Data columns (total 30 columns):\n",
            " #   Column                Dtype  \n",
            "---  ------                -----  \n",
            " 0   uid                   object \n",
            " 1   ty                    int64  \n",
            " 2   tq                    object \n",
            " 3   tm                    object \n",
            " 4   entry                 object \n",
            " 5   hscode                int64  \n",
            " 6   goodsdescription      object \n",
            " 7   p                     float64\n",
            " 8   q                     float64\n",
            " 9   m_fob                 float64\n",
            " 10  m_cif                 float64\n",
            " 11  fx_usd                float64\n",
            " 12  dutiablevalueforeign  float64\n",
            " 13  exchangerate          float64\n",
            " 14  currency              object \n",
            " 15  dutiablevaluephp      int64  \n",
            " 16  dutypaid              int64  \n",
            " 17  exciseadvalorem       float64\n",
            " 18  arrastre              float64\n",
            " 19  wharfage              float64\n",
            " 20  vatbase               int64  \n",
            " 21  vatpaid               int64  \n",
            " 22  othertax              float64\n",
            " 23  finesandpenalties     float64\n",
            " 24  dutiestaxes           int64  \n",
            " 25  prefcode              object \n",
            " 26  countryorigin_iso3    object \n",
            " 27  countryexport_iso3    object \n",
            " 28  subport               object \n",
            " 29  port                  object \n",
            "dtypes: float64(12), int64(7), object(11)\n",
            "memory usage: 718.8+ MB\n",
            "None\n",
            "               uid    ty  ...                subport          port\n",
            "0  201601 00000001  2016  ...  Sub-Port of Dumaguete  Port of Cebu\n",
            "1  201601 00000002  2016  ...  Sub-Port of Dumaguete  Port of Cebu\n",
            "2  201601 00000003  2016  ...  Sub-Port of Dumaguete  Port of Cebu\n",
            "3  201601 00000004  2016  ...  Sub-Port of Dumaguete  Port of Cebu\n",
            "4  201601 00000005  2016  ...  Sub-Port of Dumaguete  Port of Cebu\n",
            "\n",
            "[5 rows x 30 columns]\n",
            "                     uid  ...                        port\n",
            "3140431  201612 00281265  ...  Ninoy Aquino Int'l Airport\n",
            "3140432  201612 00281266  ...  Ninoy Aquino Int'l Airport\n",
            "3140433  201612 00281267  ...  Ninoy Aquino Int'l Airport\n",
            "3140434  201612 00281268  ...  Ninoy Aquino Int'l Airport\n",
            "3140435  201612 00281269  ...  Ninoy Aquino Int'l Airport\n",
            "\n",
            "[5 rows x 30 columns]\n"
          ],
          "name": "stdout"
        }
      ]
    },
    {
      "cell_type": "code",
      "metadata": {
        "id": "n3BWP5mTjDfX",
        "colab_type": "code",
        "colab": {
          "base_uri": "https://localhost:8080/",
          "height": 294
        },
        "outputId": "c7dad18f-9b4b-420e-ecf4-98c3da869186"
      },
      "source": [
        "# imports per month (percentages over a year)\n",
        "tm = pd.DataFrame(dat2016[\"tm\"].value_counts(normalize = True)) * 100\n",
        "\n",
        "# changing indices\n",
        "new_index = []\n",
        "for index in tm.index.str.replace(\"2016m\",\"\"):\n",
        "  new_index.append(int(index))\n",
        "tm[\"month\"] = new_index\n",
        "\n",
        "# sorting indices\n",
        "tm_sorted = tm.reset_index(drop = True).set_index(\"month\").sort_index()\n",
        "\n",
        "# plot monthly imports\n",
        "plt.style.use(\"ggplot\")\n",
        "fig, ax = plt.subplots()\n",
        "ax.bar(tm_sorted.index, tm_sorted[\"tm\"])\n",
        "ax.set_title(\"Monthly Import Percentages Over 2016\")\n",
        "ax.set_xticks(tm_sorted.index)\n",
        "ax.set_xticklabels([\"Jan\", \"Feb\", \"Mar\", \"Apr\", \"May\", \"Jun\",\n",
        "                    \"Jul\", \"Aug\", \"Sep\", \"Oct\", \"Nov\", \"Dec\"], \n",
        "                    rotation = 45)\n",
        "ax.set_ylabel(\"Percentage\")\n",
        "plt.show()"
      ],
      "execution_count": 6,
      "outputs": [
        {
          "output_type": "display_data",
          "data": {
            "image/png": "[encoded data removed]",
            "text/plain": [
              "<Figure size 432x288 with 1 Axes>"
            ]
          },
          "metadata": {
            "tags": []
          }
        }
      ]
    },
    {
      "cell_type": "code",
      "metadata": {
        "id": "9ykXHLO71wQF",
        "colab_type": "code",
        "colab": {
          "base_uri": "https://localhost:8080/",
          "height": 187
        },
        "outputId": "5fa9ae09-d490-439b-987d-af21bca54d7d"
      },
      "source": [
        "# make a new column multiplying p and q to get actual value of the good\n",
        "dat2016[\"pq\"] = dat2016[\"p\"].multiply(dat2016[\"q\"], axis = \"rows\")\n",
        "print(dat2016[[\"p\", \"q\", \"pq\"]].head())\n",
        "\n",
        "# most expensive imported good per kg\n",
        "print(dat2016[dat2016[\"p\"] == dat2016[\"p\"].max()]\n",
        "      [[\"goodsdescription\", \"countryorigin_iso3\", \"p\", \"q\"]])\n",
        "\n",
        "# most expensive imported good as a whole\n",
        "print(dat2016[dat2016[\"pq\"] == dat2016[\"pq\"].max()]\n",
        "      [[\"goodsdescription\", \"countryorigin_iso3\", \"p\", \"q\"]])"
      ],
      "execution_count": 16,
      "outputs": [
        {
          "output_type": "stream",
          "text": [
            "          p           q            pq\n",
            "0  0.537500   1999417.0  1.074687e+06\n",
            "1  0.537500   2999779.0  1.612381e+06\n",
            "2  0.202685  10985729.0  2.226641e+06\n",
            "3  0.307952   6686611.0  2.059155e+06\n",
            "4  0.558910    860000.0  4.806626e+05\n",
            "          goodsdescription countryorigin_iso3             p     q\n",
            "1946602  A321-231 AIRCRAFT                CYM  6.254436e+09  0.01\n",
            "       goodsdescription countryorigin_iso3           p     q\n",
            "454428          GROMMET                THA  18948408.0  95.0\n"
          ],
          "name": "stdout"
        }
      ]
    },
    {
      "cell_type": "markdown",
      "metadata": {
        "id": "AbbmtmqC8snb",
        "colab_type": "text"
      },
      "source": [
        "**HS Codes**\n",
        "\n",
        "01-05  Animal & Animal Products <br>\n",
        "06-15  Vegetable Products <br>\n",
        "16-24  Foodstuffs <br>\n",
        "25-27  Mineral Products <br>\n",
        "28-38  Chemicals & Allied Industries <br>\n",
        "39-40  Plastics / Rubbers <br>\n",
        "41-43  Raw Hides, Skins, Leather, & Furs <br>\n",
        "44-49  Wood & Wood Products <br>\n",
        "50-63  Textiles <br>\n",
        "64-67  Footwear / Headgear <br>\n",
        "68-71  Stone / Glass <br>\n",
        "72-83  Metals <br>\n",
        "84-85  Machinery / Electrical <br>\n",
        "86-89  Transportation <br>\n",
        "90-97  Miscellaneous <br>"
      ]
    },
    {
      "cell_type": "code",
      "metadata": {
        "id": "s5XQf7Vtf63N",
        "colab_type": "code",
        "colab": {
          "base_uri": "https://localhost:8080/",
          "height": 238
        },
        "outputId": "f1dbf3c9-0957-44c3-8be8-b3dcab200ec7"
      },
      "source": [
        "print(\"Most imports are Machinery/Electrical goods!\")\n",
        "# finding out the hscode group with the most imports (in percentages)\n",
        "dat2016[\"hscode\"].value_counts(normalize = True) * 100"
      ],
      "execution_count": null,
      "outputs": [
        {
          "output_type": "stream",
          "text": [
            "Most imports are Machinery/Electrical goods!\n"
          ],
          "name": "stdout"
        },
        {
          "output_type": "execute_result",
          "data": {
            "text/plain": [
              "84733090000    1.320931\n",
              "84799040000    1.060935\n",
              "85429000000    0.960918\n",
              "85415000000    0.931813\n",
              "84799030000    0.809792\n",
              "                 ...   \n",
              "52054100000    0.000032\n",
              "72173011000    0.000032\n",
              "84863020000    0.000032\n",
              "85198171000    0.000032\n",
              "6039000000     0.000032\n",
              "Name: hscode, Length: 8779, dtype: float64"
            ]
          },
          "metadata": {
            "tags": []
          },
          "execution_count": 13
        }
      ]
    },
    {
      "cell_type": "code",
      "metadata": {
        "id": "NDV2Ga2i8_uc",
        "colab_type": "code",
        "colab": {
          "base_uri": "https://localhost:8080/",
          "height": 255
        },
        "outputId": "6a1454f0-8cd6-45df-ce0b-0d360fe3d81e"
      },
      "source": [
        "# scatterplot of country imports\n",
        "chn_dat = dat2016[dat2016[\"countryorigin_iso3\"] == \"CHN\"]\n",
        "print(chn_dat)"
      ],
      "execution_count": null,
      "outputs": [
        {
          "output_type": "stream",
          "text": [
            "                     uid    ty  ...                        port            pq\n",
            "2        201601 00000003  2016  ...                Port of Cebu  2.226641e+06\n",
            "3        201601 00000004  2016  ...                Port of Cebu  2.059155e+06\n",
            "7        201601 00000008  2016  ...              Port of Manila  9.776525e+05\n",
            "8        201601 00000009  2016  ...              Port of Manila  1.894245e+04\n",
            "9        201601 00000010  2016  ...              Port of Manila  5.367427e+05\n",
            "...                  ...   ...  ...                         ...           ...\n",
            "3140381  201612 00281215  2016  ...  Ninoy Aquino Int'l Airport  5.820000e+03\n",
            "3140387  201612 00281221  2016  ...  Ninoy Aquino Int'l Airport  8.798428e+05\n",
            "3140412  201612 00281246  2016  ...  Ninoy Aquino Int'l Airport  2.000000e+02\n",
            "3140419  201612 00281253  2016  ...  Ninoy Aquino Int'l Airport  3.578000e+02\n",
            "3140420  201612 00281254  2016  ...  Ninoy Aquino Int'l Airport  4.896000e+02\n",
            "\n",
            "[812537 rows x 31 columns]\n"
          ],
          "name": "stdout"
        }
      ]
    },
    {
      "cell_type": "code",
      "metadata": {
        "id": "Rfan-Rrr-pCf",
        "colab_type": "code",
        "colab": {
          "base_uri": "https://localhost:8080/",
          "height": 294
        },
        "outputId": "b55c280b-a426-4e3b-b456-b13a40d4dc08"
      },
      "source": [
        "excrate_month_mean = dat2016.groupby(\"tm\")[[\"exchangerate\"]].mean()\n",
        "\n",
        "# changing indices\n",
        "new_index = []\n",
        "for index in excrate_month_mean.index.str.replace(\"2016m\",\"\"):\n",
        "  new_index.append(int(index))\n",
        "excrate_month_mean[\"month\"] = new_index\n",
        "\n",
        "# sorting indices\n",
        "excrate_month_mean_sorted = excrate_month_mean.reset_index(drop = True).set_index(\"month\").sort_index()\n",
        "\n",
        "# plot monthly imports\n",
        "fig, ax = plt.subplots()\n",
        "ax.plot(excrate_month_mean_sorted.index, excrate_month_mean_sorted)\n",
        "ax.set_title(\"Monthly Mean Exchange Rates in 2016\")\n",
        "ax.set_xticks(excrate_month_mean_sorted.index)\n",
        "ax.set_xticklabels([\"Jan\", \"Feb\", \"Mar\", \"Apr\", \"May\", \"Jun\",\n",
        "                    \"Jul\", \"Aug\", \"Sep\", \"Oct\", \"Nov\", \"Dec\"], \n",
        "                    rotation = 45)\n",
        "ax.set_ylabel(\"Exchange Rate (Php)\")\n",
        "plt.show()\n"
      ],
      "execution_count": 90,
      "outputs": [
        {
          "output_type": "display_data",
          "data": {
            "image/png": "[encoded data removed]",
            "text/plain": [
              "<Figure size 432x288 with 1 Axes>"
            ]
          },
          "metadata": {
            "tags": []
          }
        }
      ]
    },
    {
      "cell_type": "code",
      "metadata": {
        "id": "qlbB7CerCfNi",
        "colab_type": "code",
        "colab": {
          "base_uri": "https://localhost:8080/",
          "height": 595
        },
        "outputId": "ffa4eae3-9630-45cd-a320-c2192f17af9c"
      },
      "source": [
        "# filling missing values with 0.0\n",
        "dat2016[[\"dutypaid\", \n",
        "         \"exciseadvalorem\", \n",
        "         \"vatpaid\", \n",
        "         \"finesandpenalties\", \n",
        "         \"othertax\"]] = dat2016[[\"dutypaid\", \n",
        "                                 \"exciseadvalorem\", \n",
        "                                 \"vatpaid\", \n",
        "                                 \"finesandpenalties\", \n",
        "                                 \"othertax\"]].fillna(0)\n",
        "\n",
        "# checking if estimations match\n",
        "# print(dat2016[\"dutiestaxes\"] == (dat2016[\"dutypaid\"] + \n",
        "#                                  dat2016[\"exciseadvalorem\"] + \n",
        "#                                  dat2016[\"vatpaid\"] + \n",
        "#                                  dat2016[\"finesandpenalties\"] + \n",
        "#                                 dat2016[\"othertax\"]))\n",
        "\n",
        "# finding transactions with non-matching estimations\n",
        "non_matching_taxes = dat2016[(dat2016[\"dutiestaxes\"] == (dat2016[\"dutypaid\"] + \n",
        "                                                         dat2016[\"exciseadvalorem\"] + \n",
        "                                                         dat2016[\"vatpaid\"] + \n",
        "                                                         dat2016[\"finesandpenalties\"] + \n",
        "                                                         dat2016[\"othertax\"])) == False]\n",
        "\n",
        "# making a new column to hold the estimates\n",
        "non_matching_taxes[\"estimation\"] = ((non_matching_taxes[\"dutypaid\"] + \n",
        "                                    non_matching_taxes[\"exciseadvalorem\"] + \n",
        "                                    non_matching_taxes[\"vatpaid\"] + \n",
        "                                    non_matching_taxes[\"finesandpenalties\"] + \n",
        "                                    non_matching_taxes[\"othertax\"]))\n",
        "\n",
        "# making a new column to hold the discrepancies\n",
        "non_matching_taxes[\"discrepancy\"] = (non_matching_taxes[\"dutiestaxes\"] -\n",
        "                                     non_matching_taxes[\"estimation\"])\n",
        "\n",
        "# finding out how far away the estimations are in non-matching cases (the discrepancies are large though omg)\n",
        "print(non_matching_taxes[[\"dutiestaxes\", \"estimation\", \"discrepancy\"]].sort_values(\"discrepancy\", ascending = False).head(10))\n",
        "print(non_matching_taxes[[\"discrepancy\", \"goodsdescription\", \"countryorigin_iso3\"]].sort_values(\"discrepancy\", ascending = False).head(10))"
      ],
      "execution_count": 22,
      "outputs": [
        {
          "output_type": "stream",
          "text": [
            "         dutiestaxes   estimation  discrepancy\n",
            "1950315    253963332   36028929.0  217934403.0\n",
            "1147083    220986943   35724791.0  185262152.0\n",
            "1950961    196984473   27635573.0  169348900.0\n",
            "1416066    190406278   31599369.0  158806909.0\n",
            "1813052    174155922   24573187.0  149582735.0\n",
            "651691     145314062   19473060.0  125841002.0\n",
            "1149263    204289866   78495911.0  125793955.0\n",
            "1614300    231840553  107758355.0  124082198.0\n",
            "1950636    215998999  100030543.0  115968456.0\n",
            "1418874    140666441   25179921.0  115486520.0\n",
            "         discrepancy  ... countryorigin_iso3\n",
            "1950315  217934403.0  ...                IDN\n",
            "1147083  185262152.0  ...                IDN\n",
            "1950961  169348900.0  ...                IDN\n",
            "1416066  158806909.0  ...                IDN\n",
            "1813052  149582735.0  ...                IDN\n",
            "651691   125841002.0  ...                IDN\n",
            "1149263  125793955.0  ...                KOR\n",
            "1614300  124082198.0  ...                IDN\n",
            "1950636  115968456.0  ...                IDN\n",
            "1418874  115486520.0  ...                IDN\n",
            "\n",
            "[10 rows x 3 columns]\n"
          ],
          "name": "stdout"
        },
        {
          "output_type": "stream",
          "text": [
            "/usr/local/lib/python3.6/dist-packages/ipykernel_launcher.py:31: SettingWithCopyWarning: \n",
            "A value is trying to be set on a copy of a slice from a DataFrame.\n",
            "Try using .loc[row_indexer,col_indexer] = value instead\n",
            "\n",
            "See the caveats in the documentation: https://pandas.pydata.org/pandas-docs/stable/user_guide/indexing.html#returning-a-view-versus-a-copy\n",
            "/usr/local/lib/python3.6/dist-packages/ipykernel_launcher.py:35: SettingWithCopyWarning: \n",
            "A value is trying to be set on a copy of a slice from a DataFrame.\n",
            "Try using .loc[row_indexer,col_indexer] = value instead\n",
            "\n",
            "See the caveats in the documentation: https://pandas.pydata.org/pandas-docs/stable/user_guide/indexing.html#returning-a-view-versus-a-copy\n"
          ],
          "name": "stderr"
        }
      ]
    },
    {
      "cell_type": "code",
      "metadata": {
        "id": "_E3RoaHdXDuP",
        "colab_type": "code",
        "colab": {
          "base_uri": "https://localhost:8080/",
          "height": 384
        },
        "outputId": "f15f0c4d-c835-403c-d359-fd36184c3c56"
      },
      "source": [
        "# unique country exporters\n",
        "importers = dat2016[\"countryorigin_iso3\"]\n",
        "print(\"There are \" + str(importers.unique().shape[0]) + \" different importer countries.\")\n",
        "\n",
        "# number of exports top countries made\n",
        "importer_count = importers.value_counts().head()\n",
        "print(importer_count)\n",
        "\n",
        "# plot top 5\n",
        "plt.bar(importer_count.index, importer_count)\n",
        "plt.show()"
      ],
      "execution_count": null,
      "outputs": [
        {
          "output_type": "stream",
          "text": [
            "There are 207 different importer countries.\n",
            "CHN    812537\n",
            "JPN    567523\n",
            "USA    294763\n",
            "SGP    270877\n",
            "KOR    165165\n",
            "Name: countryorigin_iso3, dtype: int64\n"
          ],
          "name": "stdout"
        },
        {
          "output_type": "display_data",
          "data": {
            "image/png": "[encoded data removed]",
            "text/plain": [
              "<Figure size 432x288 with 1 Axes>"
            ]
          },
          "metadata": {
            "tags": []
          }
        }
      ]
    },
    {
      "cell_type": "code",
      "metadata": {
        "id": "8OHMZD9t52Ni",
        "colab_type": "code",
        "colab": {
          "base_uri": "https://localhost:8080/",
          "height": 299
        },
        "outputId": "f70108cc-957b-49ec-9e73-802083f23bc0"
      },
      "source": [
        "# scatter plot for exchange rate and number of imports\n",
        "dat2016[\"exchangeraterounded\"] = dat2016[\"exchangerate\"].round(2)\n",
        "excrate_round = dat2016.groupby(\"exchangeraterounded\")[[\"countryorigin_iso3\"]].count()\n",
        "\n",
        "fig, ax = plt.subplots()\n",
        "ax.scatter(excrate_round.index, excrate_round)\n",
        "ax.set_title(\"Import Count vs Exchange Rate in 2016\")\n",
        "ax.set_xlabel(\"Exchange Rate (Php)\")\n",
        "ax.set_ylabel(\"Import Count\")\n",
        "ax.set_xlim((45.96, 50.02))\n",
        "ax.set_ylim((30000, 81000))\n",
        "plt.show()"
      ],
      "execution_count": 108,
      "outputs": [
        {
          "output_type": "display_data",
          "data": {
            "image/png": "[encoded data removed]",
            "text/plain": [
              "<Figure size 432x288 with 1 Axes>"
            ]
          },
          "metadata": {
            "tags": []
          }
        }
      ]
    },
    {
      "cell_type": "markdown",
      "metadata": {
        "id": "aP9peVzFCwMb",
        "colab_type": "text"
      },
      "source": [
        "Now we look at multiple datasets"
      ]
    },
    {
      "cell_type": "code",
      "metadata": {
        "id": "864iiwz7You8",
        "colab_type": "code",
        "colab": {
          "base_uri": "https://localhost:8080/",
          "height": 105
        },
        "outputId": "a3ce57c0-0966-4c38-d397-bc3d386cbaee"
      },
      "source": [
        "# concatenate multiple datasets (in batches)\n",
        "df = []\n",
        "for filename in glob.glob(\"boc_lite_201?.csv\")[2:4]:\n",
        "  dat = pd.read_csv(filename, encoding = \"ISO-8859-1\")\n",
        "  df.append(dat[[\"ty\", \"tq\", \"exchangerate\", \"countryorigin_iso3\"]])\n",
        "  gc.collect()"
      ],
      "execution_count": 7,
      "outputs": [
        {
          "output_type": "stream",
          "text": [
            "/usr/local/lib/python3.6/dist-packages/IPython/core/interactiveshell.py:2718: DtypeWarning: Columns (4,28,29) have mixed types.Specify dtype option on import or set low_memory=False.\n",
            "  interactivity=interactivity, compiler=compiler, result=result)\n",
            "/usr/local/lib/python3.6/dist-packages/IPython/core/interactiveshell.py:2718: DtypeWarning: Columns (4,25,28,29) have mixed types.Specify dtype option on import or set low_memory=False.\n",
            "  interactivity=interactivity, compiler=compiler, result=result)\n"
          ],
          "name": "stderr"
        }
      ]
    },
    {
      "cell_type": "code",
      "metadata": {
        "id": "QHNtw0FXTeW-",
        "colab_type": "code",
        "colab": {
          "base_uri": "https://localhost:8080/",
          "height": 105
        },
        "outputId": "88773e78-b34a-46aa-fa51-fc82614b4c4b"
      },
      "source": [
        "for filename in glob.glob(\"boc_lite_201?.csv\")[4:6]:\n",
        "  dat = pd.read_csv(filename, encoding = \"ISO-8859-1\")\n",
        "  df.append(dat[[\"ty\", \"tq\", \"exchangerate\", \"countryorigin_iso3\"]])\n",
        "  gc.collect()"
      ],
      "execution_count": 8,
      "outputs": [
        {
          "output_type": "stream",
          "text": [
            "/usr/local/lib/python3.6/dist-packages/IPython/core/interactiveshell.py:2718: DtypeWarning: Columns (25) have mixed types.Specify dtype option on import or set low_memory=False.\n",
            "  interactivity=interactivity, compiler=compiler, result=result)\n",
            "/usr/local/lib/python3.6/dist-packages/IPython/core/interactiveshell.py:2718: DtypeWarning: Columns (4,25,28,29) have mixed types.Specify dtype option on import or set low_memory=False.\n",
            "  interactivity=interactivity, compiler=compiler, result=result)\n"
          ],
          "name": "stderr"
        }
      ]
    },
    {
      "cell_type": "code",
      "metadata": {
        "id": "vLbar9_zTgRU",
        "colab_type": "code",
        "colab": {
          "base_uri": "https://localhost:8080/",
          "height": 71
        },
        "outputId": "af36e71a-ed32-475e-da48-44ea9197b869"
      },
      "source": [
        "for filename in glob.glob(\"boc_lite_201?.csv\")[6:8]:\n",
        "  dat = pd.read_csv(filename, encoding = \"ISO-8859-1\")\n",
        "  df.append(dat[[\"ty\", \"tq\", \"exchangerate\", \"countryorigin_iso3\"]])\n",
        "  gc.collect()"
      ],
      "execution_count": 9,
      "outputs": [
        {
          "output_type": "stream",
          "text": [
            "/usr/local/lib/python3.6/dist-packages/IPython/core/interactiveshell.py:2718: DtypeWarning: Columns (25) have mixed types.Specify dtype option on import or set low_memory=False.\n",
            "  interactivity=interactivity, compiler=compiler, result=result)\n"
          ],
          "name": "stderr"
        }
      ]
    },
    {
      "cell_type": "code",
      "metadata": {
        "id": "m7W-YglFThvd",
        "colab_type": "code",
        "colab": {}
      },
      "source": [
        "# concatenate appended batches into a DataFrame\n",
        "df = pd.concat(df)"
      ],
      "execution_count": 10,
      "outputs": []
    },
    {
      "cell_type": "code",
      "metadata": {
        "id": "SHMueUf_u-rL",
        "colab_type": "code",
        "colab": {
          "base_uri": "https://localhost:8080/",
          "height": 310
        },
        "outputId": "55aab453-643d-45f9-b37d-d8c2315f9595"
      },
      "source": [
        "# count number of imports per year\n",
        "import_year = df.groupby(\"tq\")[[\"countryorigin_iso3\"]].count()\n",
        "\n",
        "fig, ax = plt.subplots()\n",
        "ax.plot(import_year.index, import_year)\n",
        "ax.set_title(\"Quarterly Imports Per Year from 2014 to 2019\")\n",
        "ax.set_ylabel(\"Import Count\")\n",
        "ax.set_xticklabels(import_year.index, rotation = 90)\n",
        "ax.set_yticklabels([\"0.3M\", \"0.4M\", \"0.5M\", \"0.6M\", \"0.7M\",\n",
        "                    \"0.8M\", \"0.9M\", \"1.0M\", \"1.2M\"])\n",
        "plt.show()"
      ],
      "execution_count": 37,
      "outputs": [
        {
          "output_type": "display_data",
          "data": {
            "image/png": "[encoded data removed]",
            "text/plain": [
              "<Figure size 432x288 with 1 Axes>"
            ]
          },
          "metadata": {
            "tags": []
          }
        }
      ]
    },
    {
      "cell_type": "code",
      "metadata": {
        "id": "e-tz6BPgFlmv",
        "colab_type": "code",
        "colab": {
          "base_uri": "https://localhost:8080/",
          "height": 310
        },
        "outputId": "2ca5dbdb-dbc9-4ae1-ea42-054725863d52"
      },
      "source": [
        "# get exchange rates from 2014 - 2019\n",
        "exc_rate_14to19 = df.groupby(\"tq\")[[\"exchangerate\"]].mean()\n",
        "\n",
        "fig, ax = plt.subplots()\n",
        "ax.plot(exc_rate_14to19.index, exc_rate_14to19)\n",
        "ax.set_title(\"Quarterly Mean Exchange Rates from 2014 to 2019\")\n",
        "ax.set_xticklabels(exc_rate_14to19.index, rotation = 90)\n",
        "ax.set_ylabel(\"Exchange Rate (Php)\")\n",
        "plt.show()"
      ],
      "execution_count": 89,
      "outputs": [
        {
          "output_type": "display_data",
          "data": {
            "image/png": "[encoded data removed]",
            "text/plain": [
              "<Figure size 432x288 with 1 Axes>"
            ]
          },
          "metadata": {
            "tags": []
          }
        }
      ]
    },
    {
      "cell_type": "code",
      "metadata": {
        "id": "LUwPcnKZZIPF",
        "colab_type": "code",
        "colab": {}
      },
      "source": [
        "# count number of import by country per year\n",
        "import_cty = df.groupby(\"ty\")[\"countryorigin_iso3\"].value_counts()\n",
        "\n",
        "import_cty_2014 = pd.DataFrame(import_cty.loc[[2014],:])\n",
        "import_cty_2014 = import_cty_2014.rename(columns = {\"countryorigin_iso3\":\"importcount\"})\n",
        "import_cty_2014 = import_cty_2014.reset_index()\n",
        "import_cty_2014.drop(\"ty\", axis = 1, inplace = True)\n",
        "import_cty_2014.set_index(\"countryorigin_iso3\", inplace = True)\n",
        "\n",
        "import_cty_2019 = pd.DataFrame(import_cty.loc[[2019],:])\n",
        "import_cty_2019 = import_cty_2019.rename(columns = {\"countryorigin_iso3\":\"importcount\"})\n",
        "import_cty_2019 = import_cty_2019.reset_index()\n",
        "import_cty_2019.drop(\"ty\", axis = 1, inplace = True)\n",
        "import_cty_2019.set_index(\"countryorigin_iso3\", inplace = True)"
      ],
      "execution_count": 12,
      "outputs": []
    },
    {
      "cell_type": "code",
      "metadata": {
        "id": "ISMc42vNjqCC",
        "colab_type": "code",
        "colab": {
          "base_uri": "https://localhost:8080/",
          "height": 255
        },
        "outputId": "d45d6e27-3c70-431e-cedd-1c20f158846e"
      },
      "source": [
        "# reindexing\n",
        "Top5 = [\"CHN\", \"JPN\", \"USA\", \"SGP\", \"KOR\"]\n",
        "import_cty_2014 = import_cty_2014.head().reindex(Top5)\n",
        "import_cty_2019 = import_cty_2019.head().reindex(Top5)\n",
        "print(import_cty_2014)\n",
        "print(import_cty_2019)"
      ],
      "execution_count": 13,
      "outputs": [
        {
          "output_type": "stream",
          "text": [
            "                    importcount\n",
            "countryorigin_iso3             \n",
            "CHN                      447574\n",
            "JPN                      133712\n",
            "USA                      123868\n",
            "SGP                      138685\n",
            "KOR                       58934\n",
            "                    importcount\n",
            "countryorigin_iso3             \n",
            "CHN                     1055807\n",
            "JPN                      636695\n",
            "USA                      352688\n",
            "SGP                      313524\n",
            "KOR                      183762\n"
          ],
          "name": "stdout"
        }
      ]
    },
    {
      "cell_type": "code",
      "metadata": {
        "id": "gZBc9-jxaupn",
        "colab_type": "code",
        "colab": {
          "base_uri": "https://localhost:8080/",
          "height": 282
        },
        "outputId": "1cdb20d6-9b35-43f3-de00-1f02703523d7"
      },
      "source": [
        "# creating stacked bar chart\n",
        "fig, ax = plt.subplots()\n",
        "ax.bar(import_cty_2014.index, \n",
        "       import_cty_2014[\"importcount\"],\n",
        "       color = 'r')\n",
        "ax.bar(import_cty_2019.index, \n",
        "       import_cty_2019[\"importcount\"], \n",
        "       bottom = import_cty_2014[\"importcount\"],\n",
        "       color = 'b')\n",
        "ax.set_title(\"Import Count from 2014 and 2019\")\n",
        "ax.set_ylabel(\"Import Count\")\n",
        "ax.set_yticklabels([\"0M\", \"0.2M\", \"0.4M\", \"0.6M\",\n",
        "                    \"0.8M\", \"1.0M\", \"1.2M\", \"1.4M\"])\n",
        "plt.show()"
      ],
      "execution_count": 14,
      "outputs": [
        {
          "output_type": "display_data",
          "data": {
            "image/png": "[encoded data removed]",
            "text/plain": [
              "<Figure size 432x288 with 1 Axes>"
            ]
          },
          "metadata": {
            "tags": []
          }
        }
      ]
    },
    {
      "cell_type": "code",
      "metadata": {
        "id": "zH_e1ZdvsXtQ",
        "colab_type": "code",
        "colab": {
          "base_uri": "https://localhost:8080/",
          "height": 282
        },
        "outputId": "69102c35-8c43-4550-dfe2-d7d31a82cb32"
      },
      "source": [
        "# Looking at top exporting country (China)\n",
        "df_chn = df[df[\"countryorigin_iso3\"] == \"CHN\"]\n",
        "import_count_china = df_chn.groupby(\"ty\")[[\"countryorigin_iso3\"]].count()\n",
        "import_count_china\n",
        "\n",
        "fig, ax = plt.subplots()\n",
        "ax.bar(import_count_china.index, import_count_china[\"countryorigin_iso3\"],)\n",
        "ax.set_title(\"Import Count from China from 2014 and 2019\")\n",
        "ax.set_ylabel(\"Import Count\")\n",
        "ax.set_yticklabels([\"0M\", \"0.2M\", \"0.4M\", \"0.6M\",\n",
        "                    \"0.8M\", \"1.0M\"])\n",
        "plt.show()"
      ],
      "execution_count": 88,
      "outputs": [
        {
          "output_type": "display_data",
          "data": {
            "image/png": "[encoded data removed]",
            "text/plain": [
              "<Figure size 432x288 with 1 Axes>"
            ]
          },
          "metadata": {
            "tags": []
          }
        }
      ]
    }
  ]
}