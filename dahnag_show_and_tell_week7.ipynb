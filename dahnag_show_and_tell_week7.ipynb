{
  "nbformat": 4,
  "nbformat_minor": 0,
  "metadata": {
    "colab": {
      "name": "dahnag_show_and_tell_week7.ipynb",
      "provenance": [],
      "authorship_tag": "ABX9TyO+6DRIXFc7nyIKiVTSPGJR",
      "include_colab_link": true
    },
    "kernelspec": {
      "name": "python3",
      "display_name": "Python 3"
    }
  },
  "cells": [
    {
      "cell_type": "markdown",
      "metadata": {
        "id": "view-in-github",
        "colab_type": "text"
      },
      "source": [
        "<a href=\"https://colab.research.google.com/github/NIP-Data-Computation/show-and-tell/blob/master/dahnag_show_and_tell_week7.ipynb\" target=\"_parent\"><img src=\"https://colab.research.google.com/assets/colab-badge.svg\" alt=\"Open In Colab\"/></a>"
      ]
    },
    {
      "cell_type": "markdown",
      "metadata": {
        "id": "AR30dyUGEgk0"
      },
      "source": [
        "**Author**: Dahna Galvez\n",
        "\n",
        "**Date Created**: October 11, 2020\n",
        "\n",
        "**Last Updated**: October 12, 2020 \n",
        "\n",
        "**Description**: Application of Week 7 lessons in examining the customs dataset: Import cost spent by Countries from 2013 to 2017"
      ]
    },
    {
      "cell_type": "markdown",
      "metadata": {
        "id": "0jTFUMDU7YJA"
      },
      "source": [
        "**Week 7 Coverage**:\n",
        "1. Introduction to Data Science in Python (*Data analyst track)*\n",
        "2. Data types for Data Science in Python\n",
        "3. Data Manipulation with pandas *(Data analyst track)*\n",
        "4. Python data science toolbox (part 1)"
      ]
    },
    {
      "cell_type": "markdown",
      "metadata": {
        "id": "n-Thx0bN9Dhg"
      },
      "source": [
        "As a preliminary: google drive mount, mount success verification, work directory change"
      ]
    },
    {
      "cell_type": "code",
      "metadata": {
        "id": "YTZ60gkVEH-N",
        "outputId": "e49957cb-027a-4548-f9ad-1c083e32f826",
        "colab": {
          "base_uri": "https://localhost:8080/",
          "height": 36
        }
      },
      "source": [
        "from google.colab import drive\n",
        "drive.mount(\"/content/drive\")"
      ],
      "execution_count": 1,
      "outputs": [
        {
          "output_type": "stream",
          "text": [
            "Drive already mounted at /content/drive; to attempt to forcibly remount, call drive.mount(\"/content/drive\", force_remount=True).\n"
          ],
          "name": "stdout"
        }
      ]
    },
    {
      "cell_type": "code",
      "metadata": {
        "id": "Z7fdtl4VGOiP",
        "outputId": "d11ec19c-2d74-4afb-bdd2-3a0d76a0a079",
        "colab": {
          "base_uri": "https://localhost:8080/",
          "height": 92
        }
      },
      "source": [
        "!ls drive/My\\ Drive/NIP-Data-Computation-Group-Drive/Datasets/PHL\\ Customs\\ Open\\ Data/clean/csv"
      ],
      "execution_count": 2,
      "outputs": [
        {
          "output_type": "stream",
          "text": [
            "boc_lite_2012_2019_top9_hscode.csv  boc_lite_2015.csv  boc_lite_2019.csv\n",
            "boc_lite_2012.csv\t\t    boc_lite_2016.csv  gapminder.csv\n",
            "boc_lite_2013.csv\t\t    boc_lite_2017.csv\n",
            "boc_lite_2014.csv\t\t    boc_lite_2018.csv\n"
          ],
          "name": "stdout"
        }
      ]
    },
    {
      "cell_type": "code",
      "metadata": {
        "id": "IA5cvjL3GUQ6",
        "outputId": "b6c52512-5213-4ec4-d5dc-7dd4eb0ff9b1",
        "colab": {
          "base_uri": "https://localhost:8080/",
          "height": 56
        }
      },
      "source": [
        "%cd drive/My\\ Drive/NIP-Data-Computation-Group-Drive/Datasets/PHL\\ Customs\\ Open\\ Data/clean/csv"
      ],
      "execution_count": 3,
      "outputs": [
        {
          "output_type": "stream",
          "text": [
            "/content/drive/.shortcut-targets-by-id/1pfxnf06OodnUo3H4NgkxVN6pA2FI9hh_/NIP-Data-Computation-Group-Drive/Datasets/PHL Customs Open Data/clean/csv\n"
          ],
          "name": "stdout"
        }
      ]
    },
    {
      "cell_type": "code",
      "metadata": {
        "id": "OPe8gPICHC7G"
      },
      "source": [
        "#Importing necessary modules\n",
        "import matplotlib.pyplot as plt\n",
        "import pandas as pd"
      ],
      "execution_count": 4,
      "outputs": []
    },
    {
      "cell_type": "code",
      "metadata": {
        "id": "O5XGYyVrj6RG"
      },
      "source": [
        "df_2013 = pd.read_csv('boc_lite_2013.csv', encoding=\"latin-1\")"
      ],
      "execution_count": 5,
      "outputs": []
    },
    {
      "cell_type": "code",
      "metadata": {
        "id": "mYS1Ckc7M0IZ",
        "outputId": "59c29da1-fcf1-478b-f0f5-f6d839937d0d",
        "colab": {
          "base_uri": "https://localhost:8080/",
          "height": 877
        }
      },
      "source": [
        "print(df_2013.head())\n",
        "print(df_2013.info())"
      ],
      "execution_count": 6,
      "outputs": [
        {
          "output_type": "stream",
          "text": [
            "               uid    ty      tq  ...  countryexport_iso3 subport  port\n",
            "0  2013q1 00000001  2013  2013q1  ...                 CHN     NaN   NaN\n",
            "1  2013q1 00000002  2013  2013q1  ...                 KOR     NaN   NaN\n",
            "2  2013q1 00000003  2013  2013q1  ...                 KOR     NaN   NaN\n",
            "3  2013q1 00000004  2013  2013q1  ...                 KOR     NaN   NaN\n",
            "4  2013q1 00000005  2013  2013q1  ...                 VNM     NaN   NaN\n",
            "\n",
            "[5 rows x 30 columns]\n",
            "<class 'pandas.core.frame.DataFrame'>\n",
            "RangeIndex: 1225431 entries, 0 to 1225430\n",
            "Data columns (total 30 columns):\n",
            " #   Column                Non-Null Count    Dtype  \n",
            "---  ------                --------------    -----  \n",
            " 0   uid                   1225431 non-null  object \n",
            " 1   ty                    1225431 non-null  int64  \n",
            " 2   tq                    1225431 non-null  object \n",
            " 3   tm                    0 non-null        float64\n",
            " 4   entry                 1225431 non-null  object \n",
            " 5   hscode                1225431 non-null  int64  \n",
            " 6   goodsdescription      1225428 non-null  object \n",
            " 7   p                     1225429 non-null  float64\n",
            " 8   q                     1225431 non-null  float64\n",
            " 9   m_fob                 1225431 non-null  float64\n",
            " 10  m_cif                 1225431 non-null  float64\n",
            " 11  fx_usd                1225431 non-null  float64\n",
            " 12  dutiablevalueforeign  1225431 non-null  float64\n",
            " 13  exchangerate          1225431 non-null  float64\n",
            " 14  currency              1225431 non-null  object \n",
            " 15  dutiablevaluephp      1225431 non-null  int64  \n",
            " 16  dutypaid              1225431 non-null  int64  \n",
            " 17  exciseadvalorem       1225431 non-null  int64  \n",
            " 18  arrastre              1225431 non-null  int64  \n",
            " 19  wharfage              0 non-null        float64\n",
            " 20  vatbase               1225431 non-null  int64  \n",
            " 21  vatpaid               1225431 non-null  int64  \n",
            " 22  othertax              0 non-null        float64\n",
            " 23  finesandpenalties     0 non-null        float64\n",
            " 24  dutiestaxes           1225431 non-null  int64  \n",
            " 25  prefcode              190493 non-null   object \n",
            " 26  countryorigin_iso3    1225431 non-null  object \n",
            " 27  countryexport_iso3    1225431 non-null  object \n",
            " 28  subport               0 non-null        float64\n",
            " 29  port                  0 non-null        float64\n",
            "dtypes: float64(13), int64(9), object(8)\n",
            "memory usage: 280.5+ MB\n",
            "None\n"
          ],
          "name": "stdout"
        }
      ]
    },
    {
      "cell_type": "markdown",
      "metadata": {
        "id": "eT6cdWqGJoYN"
      },
      "source": [
        "In here, I first checked ```df_2013``` to inspect which 5 countries spent the most on import cost."
      ]
    },
    {
      "cell_type": "code",
      "metadata": {
        "id": "JBKkGK4ho448",
        "outputId": "4ed34d62-4af4-4690-9ee9-fbe802522bfb",
        "colab": {
          "base_uri": "https://localhost:8080/",
          "height": 260
        }
      },
      "source": [
        "print(df_2013.groupby('countryorigin_iso3')\n",
        "              ['dutiablevalueforeign'].sum().sort_values(ascending=False))"
      ],
      "execution_count": 7,
      "outputs": [
        {
          "output_type": "stream",
          "text": [
            "countryorigin_iso3\n",
            "CHN    9.271415e+09\n",
            "USA    5.944247e+09\n",
            "THA    5.757603e+09\n",
            "KOR    4.558865e+09\n",
            "JPN    4.498348e+09\n",
            "           ...     \n",
            "KGZ    5.011500e+02\n",
            "AIA    2.090500e+02\n",
            "GIN    1.503400e+02\n",
            "GNQ    1.320200e+02\n",
            "BDI    7.528000e+01\n",
            "Name: dutiablevalueforeign, Length: 189, dtype: float64\n"
          ],
          "name": "stdout"
        }
      ]
    },
    {
      "cell_type": "code",
      "metadata": {
        "id": "yeIzPxECvEbj",
        "outputId": "1ecc3a92-b945-4949-b7de-2c787e9ce40a",
        "colab": {
          "base_uri": "https://localhost:8080/",
          "height": 261
        }
      },
      "source": [
        "#List of countries obtained from number 3\n",
        "countries = ['CHN','USA','THA','KOR','JPN']\n",
        "\n",
        "#Can be a function\n",
        "\n",
        "#Storage of datapoints\n",
        "import_CHN = []\n",
        "import_USA = []\n",
        "import_THA = []\n",
        "import_KOR = []\n",
        "import_JPN = []\n",
        "year = []\n",
        "\n",
        "for i in range(3,8):\n",
        "  #Load CSV files\n",
        "  filename = 'boc_lite_201' + str(i) + '.csv'\n",
        "  \n",
        "  #Read csv files\n",
        "  df = pd.read_csv(filename, encoding=\"latin-1\")\n",
        "\n",
        "  for c in countries:\n",
        "    count = df[df['countryorigin_iso3'] == c]['dutiablevalueforeign'].sum()\n",
        "    if c == 'CHN':\n",
        "      import_CHN.append(count)\n",
        "    elif c == 'USA':\n",
        "      import_USA.append(count)\n",
        "    elif c == 'THA':\n",
        "      import_THA.append(count)\n",
        "    elif c == 'KOR':\n",
        "      import_KOR.append(count)\n",
        "    else:\n",
        "      import_JPN.append(count)\n",
        "\n",
        "  year.append(2010+ i)\n",
        "\n",
        "dframe = pd.DataFrame({'CHN':import_CHN, 'USA':import_USA, 'THA':import_THA,\n",
        "                       'KOR':import_KOR, 'JPN':import_JPN, 'year':year})\n",
        "\n",
        "print(dframe)"
      ],
      "execution_count": 8,
      "outputs": [
        {
          "output_type": "stream",
          "text": [
            "/usr/local/lib/python3.6/dist-packages/IPython/core/interactiveshell.py:2718: DtypeWarning: Columns (4,28,29) have mixed types.Specify dtype option on import or set low_memory=False.\n",
            "  interactivity=interactivity, compiler=compiler, result=result)\n",
            "/usr/local/lib/python3.6/dist-packages/IPython/core/interactiveshell.py:2718: DtypeWarning: Columns (4,25,28,29) have mixed types.Specify dtype option on import or set low_memory=False.\n",
            "  interactivity=interactivity, compiler=compiler, result=result)\n",
            "/usr/local/lib/python3.6/dist-packages/IPython/core/interactiveshell.py:2718: DtypeWarning: Columns (25) have mixed types.Specify dtype option on import or set low_memory=False.\n",
            "  interactivity=interactivity, compiler=compiler, result=result)\n"
          ],
          "name": "stderr"
        },
        {
          "output_type": "stream",
          "text": [
            "            CHN           USA           THA           KOR           JPN  year\n",
            "0  9.271415e+09  5.944247e+09  5.757603e+09  4.558865e+09  4.498348e+09  2013\n",
            "1  1.280843e+10  6.427889e+09  6.439776e+09  6.025983e+09  6.209536e+09  2014\n",
            "2  2.388079e+10  9.273061e+09  1.393389e+10  6.629657e+09  1.163499e+10  2015\n",
            "3  2.701186e+10  1.089840e+10  1.977664e+10  8.261206e+09  1.814579e+10  2016\n",
            "4  2.592804e+10  1.154561e+10  4.849678e+10  1.687400e+10  2.623810e+10  2017\n"
          ],
          "name": "stdout"
        }
      ]
    },
    {
      "cell_type": "code",
      "metadata": {
        "id": "hcGILRW81bEg",
        "outputId": "974494a5-0a08-4adb-bd51-8f178c29026b",
        "colab": {
          "base_uri": "https://localhost:8080/",
          "height": 295
        }
      },
      "source": [
        "plt.plot(dframe['year'], dframe['CHN'], label = 'China', color = 'red')\n",
        "plt.plot(dframe['year'], dframe['USA'], label = 'USA',color='orange')\n",
        "plt.plot(dframe['year'], dframe['THA'], label = 'Thailand', color = 'yellow')\n",
        "plt.plot(dframe['year'], dframe['KOR'], label = 'Korea', color='green')\n",
        "plt.plot(dframe['year'], dframe['JPN'], label = 'Japan')\n",
        "\n",
        "# add labels\n",
        "plt.title('Import cost spent by Countries from 2013 to 2017')\n",
        "plt.xlabel('Year')\n",
        "plt.ylabel('Import cost (PHP)')\n",
        "plt.yticks([10000000000, 20000000000, 30000000000, 40000000000, 50000000000],\n",
        "           ['10B','20B','30B','40B','50B'])\n",
        "plt.legend()\n",
        "\n",
        "# display plots\n",
        "plt.show()"
      ],
      "execution_count": 9,
      "outputs": [
        {
          "output_type": "display_data",
          "data": {
            "image/png": "[encoded data removed]",
            "text/plain": [
              "<Figure size 432x288 with 1 Axes>"
            ]
          },
          "metadata": {
            "tags": [],
            "needs_background": "light"
          }
        }
      ]
    },
    {
      "cell_type": "code",
      "metadata": {
        "id": "QnYlr3QGNh1d",
        "outputId": "d4a00be3-df50-4fbc-8e52-ac5d35f4a67e",
        "colab": {
          "base_uri": "https://localhost:8080/",
          "height": 261
        }
      },
      "source": [
        "#List of countries obtained from number 3\n",
        "countries = ['CHN','USA','THA','KOR','JPN']\n",
        "\n",
        "#Storage of datapoints\n",
        "import_CHN = []\n",
        "import_USA = []\n",
        "import_THA = []\n",
        "import_KOR = []\n",
        "import_JPN = []\n",
        "year = []\n",
        "\n",
        "for i in range(3,8):\n",
        "  #Load CSV files\n",
        "  filename = 'boc_lite_201' + str(i) + '.csv'\n",
        "  \n",
        "  #Read csv files\n",
        "  df = pd.read_csv(filename, encoding=\"latin-1\")\n",
        "\n",
        "  for c in countries:\n",
        "    count = df[df['countryorigin_iso3'] == c]['dutiestaxes'].sum()\n",
        "    if c == 'CHN':\n",
        "      import_CHN.append(count)\n",
        "    elif c == 'USA':\n",
        "      import_USA.append(count)\n",
        "    elif c == 'THA':\n",
        "      import_THA.append(count)\n",
        "    elif c == 'KOR':\n",
        "      import_KOR.append(count)\n",
        "    else:\n",
        "      import_JPN.append(count)\n",
        "\n",
        "  year.append(2010+ i)\n",
        "\n",
        "dframe = pd.DataFrame({'CHN':import_CHN, 'USA':import_USA, 'THA':import_THA,\n",
        "                       'KOR':import_KOR, 'JPN':import_JPN, 'year':year})\n",
        "\n",
        "print(dframe)"
      ],
      "execution_count": 10,
      "outputs": [
        {
          "output_type": "stream",
          "text": [
            "/usr/local/lib/python3.6/dist-packages/IPython/core/interactiveshell.py:2718: DtypeWarning: Columns (4,28,29) have mixed types.Specify dtype option on import or set low_memory=False.\n",
            "  interactivity=interactivity, compiler=compiler, result=result)\n",
            "/usr/local/lib/python3.6/dist-packages/IPython/core/interactiveshell.py:2718: DtypeWarning: Columns (4,25,28,29) have mixed types.Specify dtype option on import or set low_memory=False.\n",
            "  interactivity=interactivity, compiler=compiler, result=result)\n",
            "/usr/local/lib/python3.6/dist-packages/IPython/core/interactiveshell.py:2718: DtypeWarning: Columns (25) have mixed types.Specify dtype option on import or set low_memory=False.\n",
            "  interactivity=interactivity, compiler=compiler, result=result)\n"
          ],
          "name": "stderr"
        },
        {
          "output_type": "stream",
          "text": [
            "            CHN          USA          THA          KOR          JPN  year\n",
            "0   47740527838  16160799619  26733793879  27487702274  16026338900  2013\n",
            "1   69874830926  19317909526  31819725366  43497662009  18722840383  2014\n",
            "2   72127640117  20560161463  38196050337  33521968590  24337217720  2015\n",
            "3   90421432967  22667702058  44942710529  30093437666  34542907458  2016\n",
            "4  104116081825  23199039968  54089507986  38526653268  41004510780  2017\n"
          ],
          "name": "stdout"
        }
      ]
    },
    {
      "cell_type": "code",
      "metadata": {
        "id": "k7HrXN5eOD2G",
        "outputId": "bd28ce6a-ab55-4b5b-e164-9a182cde4097",
        "colab": {
          "base_uri": "https://localhost:8080/",
          "height": 295
        }
      },
      "source": [
        "plt.plot(dframe['year'], dframe['CHN'], label = 'China', color = 'red')\n",
        "plt.plot(dframe['year'], dframe['USA'], label = 'USA',color='orange')\n",
        "plt.plot(dframe['year'], dframe['THA'], label = 'Thailand', color = 'yellow')\n",
        "plt.plot(dframe['year'], dframe['KOR'], label = 'Korea', color='green')\n",
        "plt.plot(dframe['year'], dframe['JPN'], label = 'Japan')\n",
        "\n",
        "# add labels\n",
        "plt.title('Duties and taxes paid by Countries from 2013 to 2017')\n",
        "plt.xlabel('Year')\n",
        "plt.ylabel('Duties and Taxes (PHP)')\n",
        "plt.yticks([20000000000, 40000000000, 60000000000, 80000000000, 100000000000],\n",
        "           ['2B','4B','6B','8B','10B'])\n",
        "plt.legend()\n",
        "\n",
        "# display plots\n",
        "plt.show()"
      ],
      "execution_count": 18,
      "outputs": [
        {
          "output_type": "display_data",
          "data": {
            "image/png": "[encoded data removed]",
            "text/plain": [
              "<Figure size 432x288 with 1 Axes>"
            ]
          },
          "metadata": {
            "tags": [],
            "needs_background": "light"
          }
        }
      ]
    }
  ]
}