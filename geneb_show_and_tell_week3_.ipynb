{
  "nbformat": 4,
  "nbformat_minor": 0,
  "metadata": {
    "colab": {
      "name": "geneb_show_and_tell_week3_.ipynb",
      "provenance": [],
      "collapsed_sections": [
        "EWvzGm0KYzM0",
        "vc7wQ8WX91Z-"
      ],
      "mount_file_id": "110R4wK4rZLdMojsg9TgVQSfDvojmfz2H",
      "authorship_tag": "ABX9TyNl6kWWDxMMjQ99LUpy8g5z",
      "include_colab_link": true
    },
    "kernelspec": {
      "name": "python3",
      "display_name": "Python 3"
    }
  },
  "cells": [
    {
      "cell_type": "markdown",
      "metadata": {
        "id": "view-in-github",
        "colab_type": "text"
      },
      "source": [
        "<a href=\"https://colab.research.google.com/github/NIP-Data-Computation/show-and-tell/blob/master/geneb_show_and_tell_week3_.ipynb\" target=\"_parent\"><img src=\"https://colab.research.google.com/assets/colab-badge.svg\" alt=\"Open In Colab\"/></a>"
      ]
    },
    {
      "cell_type": "markdown",
      "metadata": {
        "id": "UL1rj1NPb9hq",
        "colab_type": "text"
      },
      "source": [
        "# **Week 3 DataCamp Show and Tell**\n",
        "\n",
        "**Author:** \n",
        "\n",
        "Gene Carlo F. Belinario \n",
        "\n",
        "III BS Applied Physics - Instrumentation Physics\n",
        "\n",
        "**Topics:** \n",
        "*   Introduction to Data Visualization with Seaborn\n",
        "*   Introduction to Importing Data in Python\n",
        "*   Intermediate Importing Data in Python\n",
        "\n",
        "**General Objective:** Demonstrate importing of data in Python and perform basic data visualization using Seaborn\n",
        "\n",
        "**Specific Objectives:**\n",
        "*   Import Customs data and visualize VAT paid on BOC transactions from 2016 to 2019 using Seaborn library\n",
        "*   Import an HDF5 file of one gravitational wave observation from LIGO website and visualize\n"
      ]
    },
    {
      "cell_type": "markdown",
      "metadata": {
        "id": "EWvzGm0KYzM0",
        "colab_type": "text"
      },
      "source": [
        "# **Application on the PHL Customs Dataset**"
      ]
    },
    {
      "cell_type": "markdown",
      "metadata": {
        "id": "dkO_la_a7-wv",
        "colab_type": "text"
      },
      "source": [
        "**Task:** Compare and track the monthly VAT paid on transactions in BOC in the period 2016 - 2019. "
      ]
    },
    {
      "cell_type": "code",
      "metadata": {
        "id": "5Nul0yF45GXl",
        "colab_type": "code",
        "colab": {}
      },
      "source": [
        "# Import necessary modules\n",
        "import pandas as pd\n",
        "import matplotlib.pyplot as plt\n",
        "import seaborn as sns\n",
        "import numpy as np"
      ],
      "execution_count": null,
      "outputs": []
    },
    {
      "cell_type": "code",
      "metadata": {
        "id": "daZKK03CygRN",
        "colab_type": "code",
        "colab": {
          "base_uri": "https://localhost:8080/",
          "height": 34
        },
        "outputId": "d710c284-1178-408a-b88d-8adb86d8a5a0"
      },
      "source": [
        "# Mount drive\n",
        "from google.colab import drive\n",
        "drive.mount(\"/content/drive\", force_remount=True)"
      ],
      "execution_count": null,
      "outputs": [
        {
          "output_type": "stream",
          "text": [
            "Mounted at /content/drive\n"
          ],
          "name": "stdout"
        }
      ]
    },
    {
      "cell_type": "code",
      "metadata": {
        "id": "A_wAYIYn1Bps",
        "colab_type": "code",
        "colab": {
          "base_uri": "https://localhost:8080/",
          "height": 85
        },
        "outputId": "f3a54302-e5f0-486d-8370-c0834ffdaa07"
      },
      "source": [
        "# Check if mounting is successful, intended files must appear in the output\n",
        "!ls drive/My\\ Drive/NIP-Data-Computation-Group-Drive/Datasets/PHL\\ Customs\\ Open\\ Data/clean/csv"
      ],
      "execution_count": null,
      "outputs": [
        {
          "output_type": "stream",
          "text": [
            "boc_lite_2012_2019_top9_hscode.csv  boc_lite_2015.csv  boc_lite_2019.csv\n",
            "boc_lite_2012.csv\t\t    boc_lite_2016.csv  gapminder.csv\n",
            "boc_lite_2013.csv\t\t    boc_lite_2017.csv\n",
            "boc_lite_2014.csv\t\t    boc_lite_2018.csv\n"
          ],
          "name": "stdout"
        }
      ]
    },
    {
      "cell_type": "code",
      "metadata": {
        "id": "xMAuDQIr-Jim",
        "colab_type": "code",
        "colab": {
          "base_uri": "https://localhost:8080/",
          "height": 105
        },
        "outputId": "b5ebd8ac-2b8b-486d-8295-a66490a7ca88"
      },
      "source": [
        "# Import datasets from 2016, 2017, 2018, and 2019\n",
        "# The file name was not recognized, so I manually put the filepath as the argument\n",
        "data_2016 = pd.read_csv('/content/drive/My Drive/NIP-Data-Computation-Group-Drive/Datasets/PHL Customs Open Data/clean/csv/boc_lite_2016.csv', encoding = \"ISO-8859-1\")\n",
        "data_2017 = pd.read_csv('/content/drive/My Drive/NIP-Data-Computation-Group-Drive/Datasets/PHL Customs Open Data/clean/csv/boc_lite_2017.csv', encoding = \"ISO-8859-1\")\n",
        "data_2018 = pd.read_csv('/content/drive/My Drive/NIP-Data-Computation-Group-Drive/Datasets/PHL Customs Open Data/clean/csv/boc_lite_2018.csv', encoding = \"ISO-8859-1\")\n",
        "data_2019 = pd.read_csv('/content/drive/My Drive/NIP-Data-Computation-Group-Drive/Datasets/PHL Customs Open Data/clean/csv/boc_lite_2019.csv', encoding = \"ISO-8859-1\")\n"
      ],
      "execution_count": null,
      "outputs": [
        {
          "output_type": "stream",
          "text": [
            "/usr/local/lib/python3.6/dist-packages/IPython/core/interactiveshell.py:2718: DtypeWarning: Columns (25) have mixed types.Specify dtype option on import or set low_memory=False.\n",
            "  interactivity=interactivity, compiler=compiler, result=result)\n",
            "/usr/local/lib/python3.6/dist-packages/IPython/core/interactiveshell.py:2718: DtypeWarning: Columns (4,25,28,29) have mixed types.Specify dtype option on import or set low_memory=False.\n",
            "  interactivity=interactivity, compiler=compiler, result=result)\n"
          ],
          "name": "stderr"
        }
      ]
    },
    {
      "cell_type": "code",
      "metadata": {
        "id": "I530wQKJVtkm",
        "colab_type": "code",
        "colab": {
          "base_uri": "https://localhost:8080/",
          "height": 255
        },
        "outputId": "5ce1901a-662f-44dd-eba9-7e5feb66973f"
      },
      "source": [
        "# Monthly total VAT paid on transaction \n",
        "Year2016 = data_2016.groupby('tm')[['vatpaid']].sum()\n",
        "Year2017 = data_2017.groupby('tm')[['vatpaid']].sum()\n",
        "Year2018 = data_2018.groupby('tm')[['vatpaid']].sum()\n",
        "Year2019 = data_2019.groupby('tm')[['vatpaid']].sum()\n",
        "\n",
        "# Change indexes for each year\n",
        "index2016 = []\n",
        "for index in Year2016.index.str.replace('2016m',''):\n",
        "  index2016.append(int(index))\n",
        "Year2016['month'] = index2016\n",
        "\n",
        "index2017 = []\n",
        "for index in Year2017.index.str.replace('2017m',''):\n",
        "  index2017.append(int(index))\n",
        "Year2017['month'] = index2017\n",
        "\n",
        "index2018 = []\n",
        "for index in Year2018.index.str.replace('2018m',''):\n",
        "  index2018.append(int(index))\n",
        "Year2018['month'] = index2018\n",
        "\n",
        "index2019 = []\n",
        "for index in Year2019.index.str.replace('2019m',''):\n",
        "  index2019.append(int(index))\n",
        "Year2019['month'] = index2019\n",
        "\n",
        "print(Year2016)"
      ],
      "execution_count": 168,
      "outputs": [
        {
          "output_type": "stream",
          "text": [
            "             vatpaid  month\n",
            "tm                         \n",
            "2016m1   23752877289      1\n",
            "2016m10  29690619111     10\n",
            "2016m11  29893016562     11\n",
            "2016m12  29256175375     12\n",
            "2016m2   24755421374      2\n",
            "2016m3   28825952401      3\n",
            "2016m4   24647591502      4\n",
            "2016m5   26816265605      5\n",
            "2016m6   27915112476      6\n",
            "2016m7   24366055533      7\n",
            "2016m8   28763919122      8\n",
            "2016m9   28715621464      9\n"
          ],
          "name": "stdout"
        }
      ]
    },
    {
      "cell_type": "code",
      "metadata": {
        "id": "8x6xlNZgHlSo",
        "colab_type": "code",
        "colab": {
          "base_uri": "https://localhost:8080/",
          "height": 238
        },
        "outputId": "7882410b-b2c3-4273-f8a2-bd72cb02d4fd"
      },
      "source": [
        "# Sort the new indexes\n",
        "Year2016_sorted = pd.DataFrame(Year2016.reset_index(drop=True).set_index('month').sort_index().reset_index())\n",
        "Year2017_sorted = pd.DataFrame(Year2017.reset_index(drop=True).set_index('month').sort_index().reset_index())\n",
        "Year2018_sorted = pd.DataFrame(Year2018.reset_index(drop=True).set_index('month').sort_index().reset_index())\n",
        "Year2019_sorted = pd.DataFrame(Year2019.reset_index(drop=True).set_index('month').sort_index().reset_index())\n",
        "\n",
        "print(Year2019_sorted)"
      ],
      "execution_count": 169,
      "outputs": [
        {
          "output_type": "stream",
          "text": [
            "    month       vatpaid\n",
            "0       1   60595824731\n",
            "1       2   52399060159\n",
            "2       3   88247117135\n",
            "3       4   60101543903\n",
            "4       5  603015851443\n",
            "5       6   55174414726\n",
            "6       7   61719140460\n",
            "7       8   58777246629\n",
            "8       9   57966898447\n",
            "9      10   62377795924\n",
            "10     11   57510041771\n",
            "11     12   52775908137\n"
          ],
          "name": "stdout"
        }
      ]
    },
    {
      "cell_type": "code",
      "metadata": {
        "id": "aNv_yC-tHv7y",
        "colab_type": "code",
        "colab": {
          "base_uri": "https://localhost:8080/",
          "height": 952
        },
        "outputId": "644b8419-8dd3-4e0a-bb81-2a3f3ea59d43"
      },
      "source": [
        "# Merge the DataFrames chronologically based on year\n",
        "Period1619 = Year2016_sorted.append(Year2017_sorted).append(Year2018_sorted).append(Year2019_sorted)\n",
        "Period1619Alt = pd.DataFrame(Period1619.reset_index(drop=True).set_index('month').reset_index())\n",
        "\n",
        "print(Period1619.head())\n",
        "print(Period1619Alt)"
      ],
      "execution_count": 170,
      "outputs": [
        {
          "output_type": "stream",
          "text": [
            "   month      vatpaid\n",
            "0      1  23752877289\n",
            "1      2  24755421374\n",
            "2      3  28825952401\n",
            "3      4  24647591502\n",
            "4      5  26816265605\n",
            "    month       vatpaid\n",
            "0       1   23752877289\n",
            "1       2   24755421374\n",
            "2       3   28825952401\n",
            "3       4   24647591502\n",
            "4       5   26816265605\n",
            "5       6   27915112476\n",
            "6       7   24366055533\n",
            "7       8   28763919122\n",
            "8       9   28715621464\n",
            "9      10   29690619111\n",
            "10     11   29893016562\n",
            "11     12   29256175375\n",
            "12      1   31974065163\n",
            "13      2   27898262819\n",
            "14      3   33507989031\n",
            "15      4   27559405257\n",
            "16      5   33480157106\n",
            "17      6   29852414910\n",
            "18      7   31451023897\n",
            "19      8   34120719360\n",
            "20      9   49161994648\n",
            "21     10   54656503632\n",
            "22     11   59084307504\n",
            "23     12   58744223048\n",
            "24      1   54588727442\n",
            "25      2   53050132422\n",
            "26      3   54801245864\n",
            "27      4   57143651967\n",
            "28      5   63283162836\n",
            "29      6   60187787391\n",
            "30      7   64725137856\n",
            "31      8   65650098792\n",
            "32      9   62039162974\n",
            "33     10   70850252737\n",
            "34     11   64382429548\n",
            "35     12   58497141529\n",
            "36      1   60595824731\n",
            "37      2   52399060159\n",
            "38      3   88247117135\n",
            "39      4   60101543903\n",
            "40      5  603015851443\n",
            "41      6   55174414726\n",
            "42      7   61719140460\n",
            "43      8   58777246629\n",
            "44      9   57966898447\n",
            "45     10   62377795924\n",
            "46     11   57510041771\n",
            "47     12   52775908137\n"
          ],
          "name": "stdout"
        }
      ]
    },
    {
      "cell_type": "code",
      "metadata": {
        "id": "8qFU_8x0V72x",
        "colab_type": "code",
        "colab": {
          "base_uri": "https://localhost:8080/",
          "height": 850
        },
        "outputId": "5628a1c5-a9b4-4f42-d7ac-fa73b6e728e1"
      },
      "source": [
        "# Add a new column for identifying the year and months\n",
        "year = ['2016','2016','2016','2016','2016','2016','2016','2016','2016','2016','2016','2016','2017','2017','2017','2017','2017','2017','2017','2017','2017',\n",
        "        '2017','2017','2017','2018','2018','2018','2018','2018','2018','2018','2018','2018','2018','2018','2018','2019','2019','2019','2019','2019','2019',\n",
        "        '2019','2019','2019','2019','2019','2019']\n",
        "\n",
        "Period1619Alt['year'] = year\n",
        "print(Period1619Alt)"
      ],
      "execution_count": 171,
      "outputs": [
        {
          "output_type": "stream",
          "text": [
            "    month       vatpaid  year\n",
            "0       1   23752877289  2016\n",
            "1       2   24755421374  2016\n",
            "2       3   28825952401  2016\n",
            "3       4   24647591502  2016\n",
            "4       5   26816265605  2016\n",
            "5       6   27915112476  2016\n",
            "6       7   24366055533  2016\n",
            "7       8   28763919122  2016\n",
            "8       9   28715621464  2016\n",
            "9      10   29690619111  2016\n",
            "10     11   29893016562  2016\n",
            "11     12   29256175375  2016\n",
            "12      1   31974065163  2017\n",
            "13      2   27898262819  2017\n",
            "14      3   33507989031  2017\n",
            "15      4   27559405257  2017\n",
            "16      5   33480157106  2017\n",
            "17      6   29852414910  2017\n",
            "18      7   31451023897  2017\n",
            "19      8   34120719360  2017\n",
            "20      9   49161994648  2017\n",
            "21     10   54656503632  2017\n",
            "22     11   59084307504  2017\n",
            "23     12   58744223048  2017\n",
            "24      1   54588727442  2018\n",
            "25      2   53050132422  2018\n",
            "26      3   54801245864  2018\n",
            "27      4   57143651967  2018\n",
            "28      5   63283162836  2018\n",
            "29      6   60187787391  2018\n",
            "30      7   64725137856  2018\n",
            "31      8   65650098792  2018\n",
            "32      9   62039162974  2018\n",
            "33     10   70850252737  2018\n",
            "34     11   64382429548  2018\n",
            "35     12   58497141529  2018\n",
            "36      1   60595824731  2019\n",
            "37      2   52399060159  2019\n",
            "38      3   88247117135  2019\n",
            "39      4   60101543903  2019\n",
            "40      5  603015851443  2019\n",
            "41      6   55174414726  2019\n",
            "42      7   61719140460  2019\n",
            "43      8   58777246629  2019\n",
            "44      9   57966898447  2019\n",
            "45     10   62377795924  2019\n",
            "46     11   57510041771  2019\n",
            "47     12   52775908137  2019\n"
          ],
          "name": "stdout"
        }
      ]
    },
    {
      "cell_type": "code",
      "metadata": {
        "id": "y7kr6k9qI6x1",
        "colab_type": "code",
        "colab": {
          "base_uri": "https://localhost:8080/",
          "height": 382
        },
        "outputId": "157ca1af-9477-42e8-a6fa-ea2fde8bfa44"
      },
      "source": [
        "# Create a line plot showing a comparison of monthly VAT collections from 2016 - 2019 using Seaborn library\n",
        "sns.set_style('darkgrid')\n",
        "sns.set_context('notebook')\n",
        "\n",
        "lp = sns.relplot('month', 'vatpaid', data=Period1619Alt, kind='line', col='year', marker='o', color='green')\n",
        "\n",
        "lp.fig.suptitle('Monthly VAT paid on BOC transactions from 2016 to 2019', y=1.03)\n",
        "x_label = [\"\", \"February\", \"April\", \"June\", \"August\", \"October\", \"December\"]\n",
        "lp.set_xticklabels(x_label, rotation=90)\n",
        "lp.set(ylabel='VAT Paid in PHP (hundred billion)', xlabel='Month')\n",
        "\n",
        "#Try later log scale \n",
        "\n",
        "plt.show()"
      ],
      "execution_count": null,
      "outputs": [
        {
          "output_type": "display_data",
          "data": {
            "image/png": "[encoded data removed]",
            "text/plain": [
              "<Figure size 1440x360 with 4 Axes>"
            ]
          },
          "metadata": {
            "tags": []
          }
        }
      ]
    },
    {
      "cell_type": "markdown",
      "metadata": {
        "id": "vc7wQ8WX91Z-",
        "colab_type": "text"
      },
      "source": [
        "# **Visualize a segment of a detected gravitational wave**"
      ]
    },
    {
      "cell_type": "markdown",
      "metadata": {
        "id": "EfsSAk_D-XTJ",
        "colab_type": "text"
      },
      "source": [
        "**Task:** Import an HDF5 file from the LIGO website and visualize a segment of a gravitational wave using Seaborn library"
      ]
    },
    {
      "cell_type": "code",
      "metadata": {
        "id": "8cq3kQVP-oSz",
        "colab_type": "code",
        "colab": {}
      },
      "source": [
        "# Import the necessary modules\n",
        "import matplotlib.pyplot as plt\n",
        "import h5py\n",
        "import requests"
      ],
      "execution_count": null,
      "outputs": []
    },
    {
      "cell_type": "code",
      "metadata": {
        "id": "cH-l7ur8wpTs",
        "colab_type": "code",
        "colab": {
          "base_uri": "https://localhost:8080/",
          "height": 34
        },
        "outputId": "4432161f-980c-4832-de3a-c18f9c6be32d"
      },
      "source": [
        "# Import the HDF5 file of 815411200 timeline of the S1 dataset from the H1 detector located at the LIGO website\n",
        "\n",
        "url = 'https://www.gw-openscience.org/archive/data/S5/814743552/H-H1_LOSC_4_V1-815411200-4096.hdf5'\n",
        "r = requests.get(url, allow_redirects = True)\n",
        "\n",
        "# Check if the file is imported in the current working directory\n",
        "open('H-H1_LOSC_4_V1-815411200-4096.hdf5', 'wb').write(r.content)"
      ],
      "execution_count": null,
      "outputs": [
        {
          "output_type": "execute_result",
          "data": {
            "text/plain": [
              "95071329"
            ]
          },
          "metadata": {
            "tags": []
          },
          "execution_count": 126
        }
      ]
    },
    {
      "cell_type": "code",
      "metadata": {
        "id": "XZQqSdJVxm89",
        "colab_type": "code",
        "colab": {
          "base_uri": "https://localhost:8080/",
          "height": 85
        },
        "outputId": "f9d4f9bc-7463-4a79-aa84-516eddd5461d"
      },
      "source": [
        "# Inspect the imported HDF5 file\n",
        "file = 'H-H1_LOSC_4_V1-815411200-4096.hdf5'\n",
        "data = h5py.File(file, 'r')\n",
        "\n",
        "print(type(data))\n",
        "for key in data.keys():\n",
        "  print(key)"
      ],
      "execution_count": 172,
      "outputs": [
        {
          "output_type": "stream",
          "text": [
            "<class 'h5py._hl.files.File'>\n",
            "meta\n",
            "quality\n",
            "strain\n"
          ],
          "name": "stdout"
        }
      ]
    },
    {
      "cell_type": "code",
      "metadata": {
        "id": "tLYgPxY9yXAu",
        "colab_type": "code",
        "colab": {
          "base_uri": "https://localhost:8080/",
          "height": 68
        },
        "outputId": "d44bc899-75cc-4389-aa2b-a8106897bf83"
      },
      "source": [
        "# Get the HDF5 group\n",
        "group = data['strain']\n",
        "\n",
        "# Check the keys of group\n",
        "for key in group.keys():\n",
        "  print(key)\n",
        "\n",
        "# Set a variable equal to time series data\n",
        "strain = data['strain']['Strain'].value\n",
        "\n",
        "# Set number of time points to sample \n",
        "num_samples = 10000\n",
        "\n",
        "# Set the time vector\n",
        "time = np.arange(0, 1, 1/num_samples)\n"
      ],
      "execution_count": 173,
      "outputs": [
        {
          "output_type": "stream",
          "text": [
            "Strain\n"
          ],
          "name": "stdout"
        },
        {
          "output_type": "stream",
          "text": [
            "/usr/local/lib/python3.6/dist-packages/ipykernel_launcher.py:9: H5pyDeprecationWarning: dataset.value has been deprecated. Use dataset[()] instead.\n",
            "  if __name__ == '__main__':\n"
          ],
          "name": "stderr"
        }
      ]
    },
    {
      "cell_type": "code",
      "metadata": {
        "id": "i4XTjNa94_gk",
        "colab_type": "code",
        "colab": {
          "base_uri": "https://localhost:8080/",
          "height": 296
        },
        "outputId": "c0ab7795-1398-40b2-83e0-847391444709"
      },
      "source": [
        "# It's plotting time!\n",
        "\n",
        "GravWave = sns.lineplot(time, strain[:num_samples])\n",
        "GravWave.set(ylabel='H1 Strain', xlabel='GPS Time (s)')\n",
        "plt.show()"
      ],
      "execution_count": 175,
      "outputs": [
        {
          "output_type": "display_data",
          "data": {
            "image/png": "[encoded data removed]",
            "text/plain": [
              "<Figure size 432x288 with 1 Axes>"
            ]
          },
          "metadata": {
            "tags": []
          }
        }
      ]
    }
  ]
}