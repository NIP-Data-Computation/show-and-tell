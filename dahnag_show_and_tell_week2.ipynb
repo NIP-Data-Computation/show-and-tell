{
  "nbformat": 4,
  "nbformat_minor": 0,
  "metadata": {
    "colab": {
      "name": "dahnag_show_and_tell_week2.ipynb",
      "provenance": [],
      "collapsed_sections": [],
      "include_colab_link": true
    },
    "kernelspec": {
      "name": "python3",
      "display_name": "Python 3"
    }
  },
  "cells": [
    {
      "cell_type": "markdown",
      "metadata": {
        "id": "view-in-github",
        "colab_type": "text"
      },
      "source": [
        "<a href=\"https://colab.research.google.com/github/NIP-Data-Computation/show-and-tell/blob/master/dahnag_show_and_tell_week2.ipynb\" target=\"_parent\"><img src=\"https://colab.research.google.com/assets/colab-badge.svg\" alt=\"Open In Colab\"/></a>"
      ]
    },
    {
      "cell_type": "markdown",
      "metadata": {
        "id": "YSY6FCpbVYlN",
        "colab_type": "text"
      },
      "source": [
        "**Author**: Dahna Galvez\n",
        "\n",
        "**Date Created**: August 16, 2020\n",
        "\n",
        "**Last Updated**: August 17, 2020\n",
        "\n",
        "**Description**: This notebook contains applications of Week 2 lessons on the Customs dataset: Change in the number of quantities of the top imported goods in 2012 after a few years"
      ]
    },
    {
      "cell_type": "code",
      "metadata": {
        "id": "uS5jhYz1VSlB",
        "colab_type": "code",
        "colab": {
          "base_uri": "https://localhost:8080/",
          "height": 129
        },
        "outputId": "be633683-483b-4c78-e333-79d757f9ac7e"
      },
      "source": [
        "#Mount Google Drive\n",
        "from google.colab import drive\n",
        "drive.mount(\"/content/drive\")"
      ],
      "execution_count": null,
      "outputs": [
        {
          "output_type": "stream",
          "text": [
            "Go to this URL in a browser: https://accounts.google.com/o/oauth2/auth?client_id=947318989803-6bn6qk8qdgf4n4g3pfee6491hc0brc4i.apps.googleusercontent.com&redirect_uri=urn%3aietf%3awg%3aoauth%3a2.0%3aoob&scope=email%20https%3a%2f%2fwww.googleapis.com%2fauth%2fdocs.test%20https%3a%2f%2fwww.googleapis.com%2fauth%2fdrive%20https%3a%2f%2fwww.googleapis.com%2fauth%2fdrive.photos.readonly%20https%3a%2f%2fwww.googleapis.com%2fauth%2fpeopleapi.readonly&response_type=code\n",
            "\n",
            "Enter your authorization code:\n",
            "··········\n",
            "Mounted at /content/drive\n"
          ],
          "name": "stdout"
        }
      ]
    },
    {
      "cell_type": "code",
      "metadata": {
        "id": "FnW0v5P5WGTv",
        "colab_type": "code",
        "colab": {
          "base_uri": "https://localhost:8080/",
          "height": 72
        },
        "outputId": "615bdda8-625a-41c8-953c-fd37eea44ab0"
      },
      "source": [
        "#Check if mount is successful\n",
        "!ls drive/My\\ Drive/NIP-Data-Computation-Group-Drive/Datasets/PHL\\ Customs\\ Open\\ Data/clean/csv"
      ],
      "execution_count": null,
      "outputs": [
        {
          "output_type": "stream",
          "text": [
            "boc_lite_2012_2019_top9_hscode.csv  boc_lite_2014.csv  boc_lite_2017.csv\n",
            "boc_lite_2012.csv\t\t    boc_lite_2015.csv  boc_lite_2018.csv\n",
            "boc_lite_2013.csv\t\t    boc_lite_2016.csv  boc_lite_2019.csv\n"
          ],
          "name": "stdout"
        }
      ]
    },
    {
      "cell_type": "code",
      "metadata": {
        "id": "HJLqafHTXWew",
        "colab_type": "code",
        "colab": {
          "base_uri": "https://localhost:8080/",
          "height": 35
        },
        "outputId": "b0c5e0b6-ecfa-47d4-b020-b33514c71c20"
      },
      "source": [
        "#Change work directory\n",
        "%cd drive/My\\ Drive/NIP-Data-Computation-Group-Drive/Datasets/PHL\\ Customs\\ Open\\ Data/clean/csv"
      ],
      "execution_count": null,
      "outputs": [
        {
          "output_type": "stream",
          "text": [
            "/content/drive/.shortcut-targets-by-id/1pfxnf06OodnUo3H4NgkxVN6pA2FI9hh_/NIP-Data-Computation-Group-Drive/Datasets/PHL Customs Open Data/clean/csv\n"
          ],
          "name": "stdout"
        }
      ]
    },
    {
      "cell_type": "markdown",
      "metadata": {
        "id": "u2f6W14ciHZs",
        "colab_type": "text"
      },
      "source": [
        "# Walkthrough\n",
        "\n",
        "1. Import modules\n",
        "2. Prepare datasets (i.e. reading and setting up .csv files)\n",
        "3. Find out content of datasets\n",
        "4. Manipulate dataframes\n",
        "5. Merge dataframes\n",
        "6. Visualizing data\n",
        "7. Drawing conclusions from data"
      ]
    },
    {
      "cell_type": "markdown",
      "metadata": {
        "id": "dYVQa0f48zPt",
        "colab_type": "text"
      },
      "source": [
        "*1. Import modules*"
      ]
    },
    {
      "cell_type": "code",
      "metadata": {
        "id": "JZF4ILytXeew",
        "colab_type": "code",
        "colab": {}
      },
      "source": [
        "#Import modules\n",
        "import numpy as np\n",
        "import matplotlib.pyplot as plt\n",
        "import pandas as pd"
      ],
      "execution_count": null,
      "outputs": []
    },
    {
      "cell_type": "markdown",
      "metadata": {
        "id": "wDLWUqnT9BD2",
        "colab_type": "text"
      },
      "source": [
        "*2. Prepare datasets*"
      ]
    },
    {
      "cell_type": "code",
      "metadata": {
        "id": "TQL3PnzrXmzK",
        "colab_type": "code",
        "colab": {
          "base_uri": "https://localhost:8080/",
          "height": 148
        },
        "outputId": "4a1bdd7c-c165-48cf-8d8a-84e9b047ee9a"
      },
      "source": [
        "#Read .csv files\n",
        "#Unable to read multiple data files simultaneously due to UnicodeDecodeError \n",
        "df_2012 = pd.read_csv('boc_lite_2012.csv')\n",
        "df_2013 = pd.read_csv('boc_lite_2013.csv', encoding=\"latin-1\")\n",
        "df_2014 = pd.read_csv('boc_lite_2014.csv', encoding=\"latin-1\")\n",
        "df_2015 = pd.read_csv('boc_lite_2015.csv', encoding=\"latin-1\")\n",
        "df_2016 = pd.read_csv('boc_lite_2016.csv', encoding=\"latin-1\")"
      ],
      "execution_count": null,
      "outputs": [
        {
          "output_type": "stream",
          "text": [
            "/usr/local/lib/python3.6/dist-packages/IPython/core/interactiveshell.py:2718: DtypeWarning: Columns (4,28,29) have mixed types.Specify dtype option on import or set low_memory=False.\n",
            "  interactivity=interactivity, compiler=compiler, result=result)\n",
            "/usr/local/lib/python3.6/dist-packages/IPython/core/interactiveshell.py:2718: DtypeWarning: Columns (4,25,28,29) have mixed types.Specify dtype option on import or set low_memory=False.\n",
            "  interactivity=interactivity, compiler=compiler, result=result)\n",
            "/usr/local/lib/python3.6/dist-packages/IPython/core/interactiveshell.py:2718: DtypeWarning: Columns (25) have mixed types.Specify dtype option on import or set low_memory=False.\n",
            "  interactivity=interactivity, compiler=compiler, result=result)\n"
          ],
          "name": "stderr"
        }
      ]
    },
    {
      "cell_type": "markdown",
      "metadata": {
        "id": "-Nlwsibi9PEf",
        "colab_type": "text"
      },
      "source": [
        "*3. Find out content of datasets*"
      ]
    },
    {
      "cell_type": "code",
      "metadata": {
        "id": "Tyq_Wzc-ehoR",
        "colab_type": "code",
        "colab": {
          "base_uri": "https://localhost:8080/",
          "height": 866
        },
        "outputId": "45070712-e086-4db7-ddf2-1be9629ab749"
      },
      "source": [
        "print(df_2012.info())\n",
        "print(df_2012.head())"
      ],
      "execution_count": null,
      "outputs": [
        {
          "output_type": "stream",
          "text": [
            "<class 'pandas.core.frame.DataFrame'>\n",
            "RangeIndex: 1193628 entries, 0 to 1193627\n",
            "Data columns (total 30 columns):\n",
            " #   Column                Non-Null Count    Dtype  \n",
            "---  ------                --------------    -----  \n",
            " 0   uid                   1193628 non-null  object \n",
            " 1   ty                    1193628 non-null  int64  \n",
            " 2   tq                    1193628 non-null  object \n",
            " 3   tm                    0 non-null        float64\n",
            " 4   entry                 1193628 non-null  object \n",
            " 5   hscode                1193628 non-null  int64  \n",
            " 6   goodsdescription      1193626 non-null  object \n",
            " 7   p                     1193628 non-null  float64\n",
            " 8   q                     1193628 non-null  float64\n",
            " 9   m_fob                 1193628 non-null  float64\n",
            " 10  m_cif                 1193628 non-null  float64\n",
            " 11  fx_usd                1193628 non-null  float64\n",
            " 12  dutiablevalueforeign  1193628 non-null  float64\n",
            " 13  exchangerate          1193628 non-null  float64\n",
            " 14  currency              1193628 non-null  object \n",
            " 15  dutiablevaluephp      1193628 non-null  int64  \n",
            " 16  dutypaid              1193628 non-null  int64  \n",
            " 17  exciseadvalorem       1193628 non-null  int64  \n",
            " 18  arrastre              1193628 non-null  int64  \n",
            " 19  wharfage              0 non-null        float64\n",
            " 20  vatbase               1193628 non-null  int64  \n",
            " 21  vatpaid               1193628 non-null  int64  \n",
            " 22  othertax              0 non-null        float64\n",
            " 23  finesandpenalties     0 non-null        float64\n",
            " 24  dutiestaxes           1193628 non-null  int64  \n",
            " 25  prefcode              179761 non-null   object \n",
            " 26  countryorigin_iso3    1193628 non-null  object \n",
            " 27  countryexport_iso3    1193628 non-null  object \n",
            " 28  subport               0 non-null        float64\n",
            " 29  port                  0 non-null        float64\n",
            "dtypes: float64(13), int64(9), object(8)\n",
            "memory usage: 273.2+ MB\n",
            "None\n",
            "               uid    ty      tq  ...  countryexport_iso3 subport  port\n",
            "0  2012q1 00000001  2012  2012q1  ...                 MYS     NaN   NaN\n",
            "1  2012q1 00000002  2012  2012q1  ...                 CHN     NaN   NaN\n",
            "2  2012q1 00000003  2012  2012q1  ...                 MYS     NaN   NaN\n",
            "3  2012q1 00000004  2012  2012q1  ...                 MYS     NaN   NaN\n",
            "4  2012q1 00000005  2012  2012q1  ...                 AUS     NaN   NaN\n",
            "\n",
            "[5 rows x 30 columns]\n"
          ],
          "name": "stdout"
        }
      ]
    },
    {
      "cell_type": "code",
      "metadata": {
        "id": "QmQA3N6ZKfln",
        "colab_type": "code",
        "colab": {
          "base_uri": "https://localhost:8080/",
          "height": 617
        },
        "outputId": "5310da50-c611-4178-8a40-072edd478bda"
      },
      "source": [
        "df_2012.set_index(['exchangerate', 'currency', 'countryorigin_iso3'])\n",
        "df_2012.reset_index()"
      ],
      "execution_count": null,
      "outputs": [
        {
          "output_type": "execute_result",
          "data": {
            "text/html": [
              "<div>\n",
              "<style scoped>\n",
              "    .dataframe tbody tr th:only-of-type {\n",
              "        vertical-align: middle;\n",
              "    }\n",
              "\n",
              "    .dataframe tbody tr th {\n",
              "        vertical-align: top;\n",
              "    }\n",
              "\n",
              "    .dataframe thead th {\n",
              "        text-align: right;\n",
              "    }\n",
              "</style>\n",
              "<table border=\"1\" class=\"dataframe\">\n",
              "  <thead>\n",
              "    <tr style=\"text-align: right;\">\n",
              "      <th></th>\n",
              "      <th>index</th>\n",
              "      <th>uid</th>\n",
              "      <th>ty</th>\n",
              "      <th>tq</th>\n",
              "      <th>tm</th>\n",
              "      <th>entry</th>\n",
              "      <th>hscode</th>\n",
              "      <th>goodsdescription</th>\n",
              "      <th>p</th>\n",
              "      <th>q</th>\n",
              "      <th>m_fob</th>\n",
              "      <th>m_cif</th>\n",
              "      <th>fx_usd</th>\n",
              "      <th>dutiablevalueforeign</th>\n",
              "      <th>exchangerate</th>\n",
              "      <th>currency</th>\n",
              "      <th>dutiablevaluephp</th>\n",
              "      <th>dutypaid</th>\n",
              "      <th>exciseadvalorem</th>\n",
              "      <th>arrastre</th>\n",
              "      <th>wharfage</th>\n",
              "      <th>vatbase</th>\n",
              "      <th>vatpaid</th>\n",
              "      <th>othertax</th>\n",
              "      <th>finesandpenalties</th>\n",
              "      <th>dutiestaxes</th>\n",
              "      <th>prefcode</th>\n",
              "      <th>countryorigin_iso3</th>\n",
              "      <th>countryexport_iso3</th>\n",
              "      <th>subport</th>\n",
              "      <th>port</th>\n",
              "    </tr>\n",
              "  </thead>\n",
              "  <tbody>\n",
              "    <tr>\n",
              "      <th>0</th>\n",
              "      <td>0</td>\n",
              "      <td>2012q1 00000001</td>\n",
              "      <td>2012</td>\n",
              "      <td>2012q1</td>\n",
              "      <td>NaN</td>\n",
              "      <td>C</td>\n",
              "      <td>15119090000</td>\n",
              "      <td>PALM OLEIN IN BULK</td>\n",
              "      <td>0.973596</td>\n",
              "      <td>2499867.0</td>\n",
              "      <td>2433859.800</td>\n",
              "      <td>2486856.300</td>\n",
              "      <td>1.0</td>\n",
              "      <td>2486856.15</td>\n",
              "      <td>43.921000</td>\n",
              "      <td>USD</td>\n",
              "      <td>109225209</td>\n",
              "      <td>0</td>\n",
              "      <td>0</td>\n",
              "      <td>274985</td>\n",
              "      <td>NaN</td>\n",
              "      <td>112934962</td>\n",
              "      <td>13552195</td>\n",
              "      <td>NaN</td>\n",
              "      <td>NaN</td>\n",
              "      <td>13552195</td>\n",
              "      <td>AFTA</td>\n",
              "      <td>MYS</td>\n",
              "      <td>MYS</td>\n",
              "      <td>NaN</td>\n",
              "      <td>NaN</td>\n",
              "    </tr>\n",
              "    <tr>\n",
              "      <th>1</th>\n",
              "      <td>1</td>\n",
              "      <td>2012q1 00000002</td>\n",
              "      <td>2012</td>\n",
              "      <td>2012q1</td>\n",
              "      <td>NaN</td>\n",
              "      <td>C</td>\n",
              "      <td>27111900000</td>\n",
              "      <td>LIQUIFIED PETROLEUM GAS</td>\n",
              "      <td>0.915000</td>\n",
              "      <td>820000.0</td>\n",
              "      <td>750300.000</td>\n",
              "      <td>750300.000</td>\n",
              "      <td>1.0</td>\n",
              "      <td>750300.00</td>\n",
              "      <td>44.023000</td>\n",
              "      <td>USD</td>\n",
              "      <td>33030457</td>\n",
              "      <td>0</td>\n",
              "      <td>0</td>\n",
              "      <td>6560</td>\n",
              "      <td>NaN</td>\n",
              "      <td>33099646</td>\n",
              "      <td>3971957</td>\n",
              "      <td>NaN</td>\n",
              "      <td>NaN</td>\n",
              "      <td>3971957</td>\n",
              "      <td>NaN</td>\n",
              "      <td>CHN</td>\n",
              "      <td>CHN</td>\n",
              "      <td>NaN</td>\n",
              "      <td>NaN</td>\n",
              "    </tr>\n",
              "    <tr>\n",
              "      <th>2</th>\n",
              "      <td>2</td>\n",
              "      <td>2012q1 00000003</td>\n",
              "      <td>2012</td>\n",
              "      <td>2012q1</td>\n",
              "      <td>NaN</td>\n",
              "      <td>C</td>\n",
              "      <td>15119090000</td>\n",
              "      <td>COPRA IN BULK</td>\n",
              "      <td>0.964095</td>\n",
              "      <td>2499831.0</td>\n",
              "      <td>2410073.500</td>\n",
              "      <td>2410073.500</td>\n",
              "      <td>1.0</td>\n",
              "      <td>2410073.54</td>\n",
              "      <td>42.193000</td>\n",
              "      <td>USD</td>\n",
              "      <td>101688233</td>\n",
              "      <td>0</td>\n",
              "      <td>0</td>\n",
              "      <td>274981</td>\n",
              "      <td>NaN</td>\n",
              "      <td>109299809</td>\n",
              "      <td>13115977</td>\n",
              "      <td>NaN</td>\n",
              "      <td>NaN</td>\n",
              "      <td>13115977</td>\n",
              "      <td>AFTA</td>\n",
              "      <td>MYS</td>\n",
              "      <td>MYS</td>\n",
              "      <td>NaN</td>\n",
              "      <td>NaN</td>\n",
              "    </tr>\n",
              "    <tr>\n",
              "      <th>3</th>\n",
              "      <td>3</td>\n",
              "      <td>2012q1 00000004</td>\n",
              "      <td>2012</td>\n",
              "      <td>2012q1</td>\n",
              "      <td>NaN</td>\n",
              "      <td>C</td>\n",
              "      <td>15119090000</td>\n",
              "      <td>PALM OLEIN IN BULK</td>\n",
              "      <td>0.996198</td>\n",
              "      <td>2499948.0</td>\n",
              "      <td>2490444.000</td>\n",
              "      <td>2561692.500</td>\n",
              "      <td>1.0</td>\n",
              "      <td>2561692.59</td>\n",
              "      <td>42.687000</td>\n",
              "      <td>USD</td>\n",
              "      <td>109350971</td>\n",
              "      <td>0</td>\n",
              "      <td>0</td>\n",
              "      <td>274994</td>\n",
              "      <td>NaN</td>\n",
              "      <td>113043254</td>\n",
              "      <td>13565190</td>\n",
              "      <td>NaN</td>\n",
              "      <td>NaN</td>\n",
              "      <td>13565190</td>\n",
              "      <td>AFTA</td>\n",
              "      <td>MYS</td>\n",
              "      <td>MYS</td>\n",
              "      <td>NaN</td>\n",
              "      <td>NaN</td>\n",
              "    </tr>\n",
              "    <tr>\n",
              "      <th>4</th>\n",
              "      <td>4</td>\n",
              "      <td>2012q1 00000005</td>\n",
              "      <td>2012</td>\n",
              "      <td>2012q1</td>\n",
              "      <td>NaN</td>\n",
              "      <td>C</td>\n",
              "      <td>12030000000</td>\n",
              "      <td>COPRA IN BULK</td>\n",
              "      <td>0.639000</td>\n",
              "      <td>120460.0</td>\n",
              "      <td>76973.938</td>\n",
              "      <td>76973.938</td>\n",
              "      <td>1.0</td>\n",
              "      <td>76973.94</td>\n",
              "      <td>43.928000</td>\n",
              "      <td>USD</td>\n",
              "      <td>3381311</td>\n",
              "      <td>361800</td>\n",
              "      <td>0</td>\n",
              "      <td>13251</td>\n",
              "      <td>NaN</td>\n",
              "      <td>4006940</td>\n",
              "      <td>480832</td>\n",
              "      <td>NaN</td>\n",
              "      <td>NaN</td>\n",
              "      <td>0</td>\n",
              "      <td>NaN</td>\n",
              "      <td>AUS</td>\n",
              "      <td>AUS</td>\n",
              "      <td>NaN</td>\n",
              "      <td>NaN</td>\n",
              "    </tr>\n",
              "    <tr>\n",
              "      <th>...</th>\n",
              "      <td>...</td>\n",
              "      <td>...</td>\n",
              "      <td>...</td>\n",
              "      <td>...</td>\n",
              "      <td>...</td>\n",
              "      <td>...</td>\n",
              "      <td>...</td>\n",
              "      <td>...</td>\n",
              "      <td>...</td>\n",
              "      <td>...</td>\n",
              "      <td>...</td>\n",
              "      <td>...</td>\n",
              "      <td>...</td>\n",
              "      <td>...</td>\n",
              "      <td>...</td>\n",
              "      <td>...</td>\n",
              "      <td>...</td>\n",
              "      <td>...</td>\n",
              "      <td>...</td>\n",
              "      <td>...</td>\n",
              "      <td>...</td>\n",
              "      <td>...</td>\n",
              "      <td>...</td>\n",
              "      <td>...</td>\n",
              "      <td>...</td>\n",
              "      <td>...</td>\n",
              "      <td>...</td>\n",
              "      <td>...</td>\n",
              "      <td>...</td>\n",
              "      <td>...</td>\n",
              "      <td>...</td>\n",
              "    </tr>\n",
              "    <tr>\n",
              "      <th>1193623</th>\n",
              "      <td>1193623</td>\n",
              "      <td>2012q4 00312929</td>\n",
              "      <td>2012</td>\n",
              "      <td>2012q4</td>\n",
              "      <td>NaN</td>\n",
              "      <td>C</td>\n",
              "      <td>27011900000</td>\n",
              "      <td>INDONESIAN STEAM COAL</td>\n",
              "      <td>0.083500</td>\n",
              "      <td>67888000.0</td>\n",
              "      <td>5668648.000</td>\n",
              "      <td>6608218.000</td>\n",
              "      <td>1.0</td>\n",
              "      <td>6608217.92</td>\n",
              "      <td>41.090000</td>\n",
              "      <td>USD</td>\n",
              "      <td>271498633</td>\n",
              "      <td>0</td>\n",
              "      <td>678880</td>\n",
              "      <td>543104</td>\n",
              "      <td>NaN</td>\n",
              "      <td>274310692</td>\n",
              "      <td>32917283</td>\n",
              "      <td>NaN</td>\n",
              "      <td>NaN</td>\n",
              "      <td>33596163</td>\n",
              "      <td>AFTA</td>\n",
              "      <td>IDN</td>\n",
              "      <td>IDN</td>\n",
              "      <td>NaN</td>\n",
              "      <td>NaN</td>\n",
              "    </tr>\n",
              "    <tr>\n",
              "      <th>1193624</th>\n",
              "      <td>1193624</td>\n",
              "      <td>2012q4 00312930</td>\n",
              "      <td>2012</td>\n",
              "      <td>2012q4</td>\n",
              "      <td>NaN</td>\n",
              "      <td>C</td>\n",
              "      <td>27011100000</td>\n",
              "      <td>DONALDSON COAL</td>\n",
              "      <td>0.081980</td>\n",
              "      <td>67104000.0</td>\n",
              "      <td>5501192.500</td>\n",
              "      <td>6746636.000</td>\n",
              "      <td>1.0</td>\n",
              "      <td>6746636.16</td>\n",
              "      <td>41.090000</td>\n",
              "      <td>USD</td>\n",
              "      <td>277185546</td>\n",
              "      <td>0</td>\n",
              "      <td>671040</td>\n",
              "      <td>536832</td>\n",
              "      <td>NaN</td>\n",
              "      <td>279975895</td>\n",
              "      <td>33597107</td>\n",
              "      <td>NaN</td>\n",
              "      <td>NaN</td>\n",
              "      <td>34268147</td>\n",
              "      <td>ANFTA</td>\n",
              "      <td>AUS</td>\n",
              "      <td>AUS</td>\n",
              "      <td>NaN</td>\n",
              "      <td>NaN</td>\n",
              "    </tr>\n",
              "    <tr>\n",
              "      <th>1193625</th>\n",
              "      <td>1193625</td>\n",
              "      <td>2012q4 00312931</td>\n",
              "      <td>2012</td>\n",
              "      <td>2012q4</td>\n",
              "      <td>NaN</td>\n",
              "      <td>C</td>\n",
              "      <td>27011290000</td>\n",
              "      <td>PINANG COAL</td>\n",
              "      <td>0.087030</td>\n",
              "      <td>69551000.0</td>\n",
              "      <td>6053023.500</td>\n",
              "      <td>6570145.500</td>\n",
              "      <td>1.0</td>\n",
              "      <td>6570145.65</td>\n",
              "      <td>40.919998</td>\n",
              "      <td>USD</td>\n",
              "      <td>268817509</td>\n",
              "      <td>0</td>\n",
              "      <td>695510</td>\n",
              "      <td>556408</td>\n",
              "      <td>NaN</td>\n",
              "      <td>271686285</td>\n",
              "      <td>32602354</td>\n",
              "      <td>NaN</td>\n",
              "      <td>NaN</td>\n",
              "      <td>33297864</td>\n",
              "      <td>AFTA</td>\n",
              "      <td>IDN</td>\n",
              "      <td>IDN</td>\n",
              "      <td>NaN</td>\n",
              "      <td>NaN</td>\n",
              "    </tr>\n",
              "    <tr>\n",
              "      <th>1193626</th>\n",
              "      <td>1193626</td>\n",
              "      <td>2012q4 00312932</td>\n",
              "      <td>2012</td>\n",
              "      <td>2012q4</td>\n",
              "      <td>NaN</td>\n",
              "      <td>C</td>\n",
              "      <td>27011100000</td>\n",
              "      <td>DONALDSON COAL</td>\n",
              "      <td>0.084726</td>\n",
              "      <td>68935000.0</td>\n",
              "      <td>5840612.000</td>\n",
              "      <td>7120985.500</td>\n",
              "      <td>1.0</td>\n",
              "      <td>7120985.50</td>\n",
              "      <td>41.060001</td>\n",
              "      <td>USD</td>\n",
              "      <td>292373422</td>\n",
              "      <td>0</td>\n",
              "      <td>689350</td>\n",
              "      <td>551480</td>\n",
              "      <td>NaN</td>\n",
              "      <td>295249267</td>\n",
              "      <td>35429912</td>\n",
              "      <td>NaN</td>\n",
              "      <td>NaN</td>\n",
              "      <td>36119262</td>\n",
              "      <td>ANFTA</td>\n",
              "      <td>AUS</td>\n",
              "      <td>AUS</td>\n",
              "      <td>NaN</td>\n",
              "      <td>NaN</td>\n",
              "    </tr>\n",
              "    <tr>\n",
              "      <th>1193627</th>\n",
              "      <td>1193627</td>\n",
              "      <td>2012q4 00312933</td>\n",
              "      <td>2012</td>\n",
              "      <td>2012q4</td>\n",
              "      <td>NaN</td>\n",
              "      <td>C</td>\n",
              "      <td>27011290000</td>\n",
              "      <td>TRUBA COAL</td>\n",
              "      <td>0.085810</td>\n",
              "      <td>69801000.0</td>\n",
              "      <td>5989624.000</td>\n",
              "      <td>6658949.000</td>\n",
              "      <td>1.0</td>\n",
              "      <td>6658949.09</td>\n",
              "      <td>41.060001</td>\n",
              "      <td>USD</td>\n",
              "      <td>273403131</td>\n",
              "      <td>0</td>\n",
              "      <td>698010</td>\n",
              "      <td>558408</td>\n",
              "      <td>NaN</td>\n",
              "      <td>276286720</td>\n",
              "      <td>33154406</td>\n",
              "      <td>NaN</td>\n",
              "      <td>NaN</td>\n",
              "      <td>33852416</td>\n",
              "      <td>AFTA</td>\n",
              "      <td>IDN</td>\n",
              "      <td>IDN</td>\n",
              "      <td>NaN</td>\n",
              "      <td>NaN</td>\n",
              "    </tr>\n",
              "  </tbody>\n",
              "</table>\n",
              "<p>1193628 rows × 31 columns</p>\n",
              "</div>"
            ],
            "text/plain": [
              "           index              uid    ty  ... countryexport_iso3  subport port\n",
              "0              0  2012q1 00000001  2012  ...                MYS      NaN  NaN\n",
              "1              1  2012q1 00000002  2012  ...                CHN      NaN  NaN\n",
              "2              2  2012q1 00000003  2012  ...                MYS      NaN  NaN\n",
              "3              3  2012q1 00000004  2012  ...                MYS      NaN  NaN\n",
              "4              4  2012q1 00000005  2012  ...                AUS      NaN  NaN\n",
              "...          ...              ...   ...  ...                ...      ...  ...\n",
              "1193623  1193623  2012q4 00312929  2012  ...                IDN      NaN  NaN\n",
              "1193624  1193624  2012q4 00312930  2012  ...                AUS      NaN  NaN\n",
              "1193625  1193625  2012q4 00312931  2012  ...                IDN      NaN  NaN\n",
              "1193626  1193626  2012q4 00312932  2012  ...                AUS      NaN  NaN\n",
              "1193627  1193627  2012q4 00312933  2012  ...                IDN      NaN  NaN\n",
              "\n",
              "[1193628 rows x 31 columns]"
            ]
          },
          "metadata": {
            "tags": []
          },
          "execution_count": 21
        }
      ]
    },
    {
      "cell_type": "markdown",
      "metadata": {
        "id": "i_kh47IO9boO",
        "colab_type": "text"
      },
      "source": [
        "*4. Manipulate DataFrames*"
      ]
    },
    {
      "cell_type": "code",
      "metadata": {
        "id": "OYEx_jdx-MRk",
        "colab_type": "code",
        "colab": {
          "base_uri": "https://localhost:8080/",
          "height": 146
        },
        "outputId": "4e9fbac6-3ccc-43bc-861a-4038e46ccc68"
      },
      "source": [
        "#Group column goodsdescription and get sum of the corresponding values in column q\n",
        "#Sort to get the highest value of q\n",
        "#Slice only the 5 goods\n",
        "goods_2012 = df_2012.groupby('goodsdescription')['q'].sum()\n",
        "goods_2012_sorted = goods_2012.sort_values(ascending=False)\n",
        "goods_2012_sliced = goods_2012_sorted[0:5]\n",
        "print(goods_2012_sliced)"
      ],
      "execution_count": null,
      "outputs": [
        {
          "output_type": "stream",
          "text": [
            "goodsdescription\n",
            "BETTER NORTHERN SPRING WHEAT    2.530006e+10\n",
            "INDONESIAN STEAM COAL           1.857618e+09\n",
            "SUBBITUMINOUS STEAM COAL        1.026883e+09\n",
            "UPPER ZAKUM CRUDE OIL           1.014632e+09\n",
            "ROTO SOUTH COAL                 9.939840e+08\n",
            "Name: q, dtype: float64\n"
          ],
          "name": "stdout"
        }
      ]
    },
    {
      "cell_type": "code",
      "metadata": {
        "id": "hBtWD276IuOk",
        "colab_type": "code",
        "colab": {
          "base_uri": "https://localhost:8080/",
          "height": 146
        },
        "outputId": "6879de1b-f316-41b1-9f89-c8dc500ac15a"
      },
      "source": [
        "#Extract the 5 goods from the series\n",
        "list = [\"BETTER NORTHERN SPRING WHEAT\", \"INDONESIAN STEAM COAL\", \n",
        "        \"SUBBITUMINOUS STEAM COAL\", \"UPPER ZAKUM CRUDE OIL\", \"ROTO SOUTH COAL\"]\n",
        "goods_2013_filtered = df_2013[df_2013['goodsdescription'].isin(list)]\n",
        "goods_2013 = goods_2013_filtered.groupby('goodsdescription')['q'].sum()\n",
        "goods_2013_sorted = goods_2013.sort_values(ascending=False)\n",
        "goods_2013_sliced = goods_2013_sorted[0:5]\n",
        "print(goods_2013_sliced)"
      ],
      "execution_count": 324,
      "outputs": [
        {
          "output_type": "stream",
          "text": [
            "goodsdescription\n",
            "INDONESIAN STEAM COAL           2.988000e+09\n",
            "ROTO SOUTH COAL                 1.002587e+09\n",
            "UPPER ZAKUM CRUDE OIL           8.204570e+08\n",
            "SUBBITUMINOUS STEAM COAL        4.515990e+08\n",
            "BETTER NORTHERN SPRING WHEAT    1.079956e+07\n",
            "Name: q, dtype: float64\n"
          ],
          "name": "stdout"
        }
      ]
    },
    {
      "cell_type": "code",
      "metadata": {
        "id": "jX3ZAo9H2PxW",
        "colab_type": "code",
        "colab": {
          "base_uri": "https://localhost:8080/",
          "height": 146
        },
        "outputId": "0013b266-7187-431f-fca8-0ae5ecec5962"
      },
      "source": [
        "goods_2014_filtered = df_2014[df_2014['goodsdescription'].isin(list)]\n",
        "goods_2014 = goods_2014_filtered.groupby('goodsdescription')['q'].sum()\n",
        "goods_2014_sorted = goods_2014.sort_values(ascending=False)\n",
        "goods_2014_sliced = goods_2014_sorted[0:5]\n",
        "print(goods_2013_sliced)"
      ],
      "execution_count": 325,
      "outputs": [
        {
          "output_type": "stream",
          "text": [
            "goodsdescription\n",
            "INDONESIAN STEAM COAL           2.988000e+09\n",
            "ROTO SOUTH COAL                 1.002587e+09\n",
            "UPPER ZAKUM CRUDE OIL           8.204570e+08\n",
            "SUBBITUMINOUS STEAM COAL        4.515990e+08\n",
            "BETTER NORTHERN SPRING WHEAT    1.079956e+07\n",
            "Name: q, dtype: float64\n"
          ],
          "name": "stdout"
        }
      ]
    },
    {
      "cell_type": "code",
      "metadata": {
        "id": "w9bmPHa62WvF",
        "colab_type": "code",
        "colab": {
          "base_uri": "https://localhost:8080/",
          "height": 146
        },
        "outputId": "86f74a21-6712-490b-9781-8294f688d039"
      },
      "source": [
        "goods_2015_filtered = df_2015[df_2015['goodsdescription'].isin(list)]\n",
        "goods_2015 = goods_2015_filtered.groupby('goodsdescription')['q'].sum()\n",
        "goods_2015_sorted = goods_2015.sort_values(ascending=False)\n",
        "goods_2015_sliced = goods_2015_sorted[0:5]\n",
        "print(goods_2013_sliced)"
      ],
      "execution_count": 326,
      "outputs": [
        {
          "output_type": "stream",
          "text": [
            "goodsdescription\n",
            "INDONESIAN STEAM COAL           2.988000e+09\n",
            "ROTO SOUTH COAL                 1.002587e+09\n",
            "UPPER ZAKUM CRUDE OIL           8.204570e+08\n",
            "SUBBITUMINOUS STEAM COAL        4.515990e+08\n",
            "BETTER NORTHERN SPRING WHEAT    1.079956e+07\n",
            "Name: q, dtype: float64\n"
          ],
          "name": "stdout"
        }
      ]
    },
    {
      "cell_type": "markdown",
      "metadata": {
        "id": "6iotjC2r-bf8",
        "colab_type": "text"
      },
      "source": [
        "*5. Merge DataFrames*"
      ]
    },
    {
      "cell_type": "code",
      "metadata": {
        "id": "OiUp0UI6GdCo",
        "colab_type": "code",
        "colab": {
          "base_uri": "https://localhost:8080/",
          "height": 423
        },
        "outputId": "394bc31b-8d5e-4342-d450-1385c9e242fd"
      },
      "source": [
        "#Combine series\n",
        "grouped = pd.concat([goods_2012_sliced, goods_2013, goods_2014, goods_2015], \n",
        "                    keys=[2012, 2013, 2014, 2015], axis=0)\n",
        "print(grouped)"
      ],
      "execution_count": 348,
      "outputs": [
        {
          "output_type": "stream",
          "text": [
            "      goodsdescription            \n",
            "2012  BETTER NORTHERN SPRING WHEAT    2.530006e+10\n",
            "      INDONESIAN STEAM COAL           1.857618e+09\n",
            "      SUBBITUMINOUS STEAM COAL        1.026883e+09\n",
            "      UPPER ZAKUM CRUDE OIL           1.014632e+09\n",
            "      ROTO SOUTH COAL                 9.939840e+08\n",
            "2013  BETTER NORTHERN SPRING WHEAT    1.079956e+07\n",
            "      INDONESIAN STEAM COAL           2.988000e+09\n",
            "      ROTO SOUTH COAL                 1.002587e+09\n",
            "      SUBBITUMINOUS STEAM COAL        4.515990e+08\n",
            "      UPPER ZAKUM CRUDE OIL           8.204570e+08\n",
            "2014  BETTER NORTHERN SPRING WHEAT    1.867056e+08\n",
            "      INDONESIAN STEAM COAL           1.750631e+09\n",
            "      ROTO SOUTH COAL                 1.071965e+09\n",
            "      SUBBITUMINOUS STEAM COAL        3.741820e+08\n",
            "      UPPER ZAKUM CRUDE OIL           5.410864e+08\n",
            "2015  BETTER NORTHERN SPRING WHEAT    1.420294e+08\n",
            "      INDONESIAN STEAM COAL           1.676418e+09\n",
            "      ROTO SOUTH COAL                 1.013350e+09\n",
            "      SUBBITUMINOUS STEAM COAL        1.129319e+09\n",
            "      UPPER ZAKUM CRUDE OIL           7.400710e+08\n",
            "Name: q, dtype: float64\n"
          ],
          "name": "stdout"
        }
      ]
    },
    {
      "cell_type": "code",
      "metadata": {
        "id": "DC1D4FQJsgTV",
        "colab_type": "code",
        "colab": {
          "base_uri": "https://localhost:8080/",
          "height": 811
        },
        "outputId": "c805e8d9-e396-4ebc-9c32-d9b8dbf2ae22"
      },
      "source": [
        "#Transform series to DataFrame\n",
        "grouped_new = grouped.to_frame().reset_index()\n",
        "print(grouped_new)\n",
        "grouped_date = grouped_new.set_index('level_0')\n",
        "print(grouped_date)"
      ],
      "execution_count": 329,
      "outputs": [
        {
          "output_type": "stream",
          "text": [
            "    level_0              goodsdescription             q\n",
            "0      2012  BETTER NORTHERN SPRING WHEAT  2.530006e+10\n",
            "1      2012         INDONESIAN STEAM COAL  1.857618e+09\n",
            "2      2012      SUBBITUMINOUS STEAM COAL  1.026883e+09\n",
            "3      2012         UPPER ZAKUM CRUDE OIL  1.014632e+09\n",
            "4      2012               ROTO SOUTH COAL  9.939840e+08\n",
            "5      2013  BETTER NORTHERN SPRING WHEAT  1.079956e+07\n",
            "6      2013         INDONESIAN STEAM COAL  2.988000e+09\n",
            "7      2013               ROTO SOUTH COAL  1.002587e+09\n",
            "8      2013      SUBBITUMINOUS STEAM COAL  4.515990e+08\n",
            "9      2013         UPPER ZAKUM CRUDE OIL  8.204570e+08\n",
            "10     2014  BETTER NORTHERN SPRING WHEAT  1.867056e+08\n",
            "11     2014         INDONESIAN STEAM COAL  1.750631e+09\n",
            "12     2014               ROTO SOUTH COAL  1.071965e+09\n",
            "13     2014      SUBBITUMINOUS STEAM COAL  3.741820e+08\n",
            "14     2014         UPPER ZAKUM CRUDE OIL  5.410864e+08\n",
            "15     2015  BETTER NORTHERN SPRING WHEAT  1.420294e+08\n",
            "16     2015         INDONESIAN STEAM COAL  1.676418e+09\n",
            "17     2015               ROTO SOUTH COAL  1.013350e+09\n",
            "18     2015      SUBBITUMINOUS STEAM COAL  1.129319e+09\n",
            "19     2015         UPPER ZAKUM CRUDE OIL  7.400710e+08\n",
            "                     goodsdescription             q\n",
            "level_0                                            \n",
            "2012     BETTER NORTHERN SPRING WHEAT  2.530006e+10\n",
            "2012            INDONESIAN STEAM COAL  1.857618e+09\n",
            "2012         SUBBITUMINOUS STEAM COAL  1.026883e+09\n",
            "2012            UPPER ZAKUM CRUDE OIL  1.014632e+09\n",
            "2012                  ROTO SOUTH COAL  9.939840e+08\n",
            "2013     BETTER NORTHERN SPRING WHEAT  1.079956e+07\n",
            "2013            INDONESIAN STEAM COAL  2.988000e+09\n",
            "2013                  ROTO SOUTH COAL  1.002587e+09\n",
            "2013         SUBBITUMINOUS STEAM COAL  4.515990e+08\n",
            "2013            UPPER ZAKUM CRUDE OIL  8.204570e+08\n",
            "2014     BETTER NORTHERN SPRING WHEAT  1.867056e+08\n",
            "2014            INDONESIAN STEAM COAL  1.750631e+09\n",
            "2014                  ROTO SOUTH COAL  1.071965e+09\n",
            "2014         SUBBITUMINOUS STEAM COAL  3.741820e+08\n",
            "2014            UPPER ZAKUM CRUDE OIL  5.410864e+08\n",
            "2015     BETTER NORTHERN SPRING WHEAT  1.420294e+08\n",
            "2015            INDONESIAN STEAM COAL  1.676418e+09\n",
            "2015                  ROTO SOUTH COAL  1.013350e+09\n",
            "2015         SUBBITUMINOUS STEAM COAL  1.129319e+09\n",
            "2015            UPPER ZAKUM CRUDE OIL  7.400710e+08\n"
          ],
          "name": "stdout"
        }
      ]
    },
    {
      "cell_type": "code",
      "metadata": {
        "id": "EJtEnxfJtP6i",
        "colab_type": "code",
        "colab": {
          "base_uri": "https://localhost:8080/",
          "height": 165
        },
        "outputId": "c7d40744-2beb-400a-d797-9ffc22f4d5d3"
      },
      "source": [
        "pivoted = grouped_date.pivot(values='q', columns='goodsdescription')\n",
        "print(pivoted)"
      ],
      "execution_count": 330,
      "outputs": [
        {
          "output_type": "stream",
          "text": [
            "goodsdescription  BETTER NORTHERN SPRING WHEAT  ...  UPPER ZAKUM CRUDE OIL\n",
            "level_0                                         ...                       \n",
            "2012                              2.530006e+10  ...           1.014632e+09\n",
            "2013                              1.079956e+07  ...           8.204570e+08\n",
            "2014                              1.867056e+08  ...           5.410864e+08\n",
            "2015                              1.420294e+08  ...           7.400710e+08\n",
            "\n",
            "[4 rows x 5 columns]\n"
          ],
          "name": "stdout"
        }
      ]
    },
    {
      "cell_type": "markdown",
      "metadata": {
        "id": "zPmY4SaB-vSo",
        "colab_type": "text"
      },
      "source": [
        "*6. Visualizing data*"
      ]
    },
    {
      "cell_type": "code",
      "metadata": {
        "id": "zropnf3CueEL",
        "colab_type": "code",
        "colab": {
          "base_uri": "https://localhost:8080/",
          "height": 295
        },
        "outputId": "b97042a9-1edb-4578-e2b0-ae11d7ba8ece"
      },
      "source": [
        "fig, ax = plt.subplots()\n",
        "ax.plot(pivoted.index, pivoted['BETTER NORTHERN SPRING WHEAT'], color='r', \n",
        "        label='Better Northern Spring Wheat')\n",
        "ax.plot(pivoted.index, pivoted['INDONESIAN STEAM COAL'],color='b', \n",
        "        label=\"Indonesian Steam Coal\")\n",
        "ax.plot(pivoted.index, pivoted['ROTO SOUTH COAL'],color='g', \n",
        "        label=\"Roto South Coal\")\n",
        "ax.plot(pivoted.index, pivoted['SUBBITUMINOUS STEAM COAL'], color='y', \n",
        "        label=\"Subbituminous Steam Coal\")\n",
        "ax.plot(pivoted.index, pivoted['UPPER ZAKUM CRUDE OIL'], color='c', \n",
        "        label=\"Upper Zakum Crude Oil\")\n",
        "ax.set_xlabel('Year')\n",
        "ax.set_ylabel('Quantity')\n",
        "ax.set_title('Change in quantity of the top imported goods from 2012 in 2012-2015')\n",
        "\n",
        "plt.legend()\n",
        "plt.show()"
      ],
      "execution_count": 349,
      "outputs": [
        {
          "output_type": "display_data",
          "data": {
            "image/png": "[encoded data removed]",
            "text/plain": [
              "<Figure size 432x288 with 1 Axes>"
            ]
          },
          "metadata": {
            "tags": [],
            "needs_background": "light"
          }
        }
      ]
    }
  ]
}