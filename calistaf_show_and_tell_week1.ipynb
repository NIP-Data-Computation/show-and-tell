{
  "nbformat": 4,
  "nbformat_minor": 0,
  "metadata": {
    "colab": {
      "name": "calistaf_show_and_tell_week1.ipynb",
      "provenance": [],
      "collapsed_sections": [],
      "authorship_tag": "ABX9TyNy58Mh/LA5LoR5L17Aku/h",
      "include_colab_link": true
    },
    "kernelspec": {
      "name": "python3",
      "display_name": "Python 3"
    }
  },
  "cells": [
    {
      "cell_type": "markdown",
      "metadata": {
        "id": "view-in-github",
        "colab_type": "text"
      },
      "source": [
        "<a href=\"https://colab.research.google.com/github/NIP-Data-Computation/show-and-tell/blob/master/calistaf_show_and_tell_week1.ipynb\" target=\"_parent\"><img src=\"https://colab.research.google.com/assets/colab-badge.svg\" alt=\"Open In Colab\"/></a>"
      ]
    },
    {
      "cell_type": "markdown",
      "metadata": {
        "id": "OKzW6Kymoaga",
        "colab_type": "text"
      },
      "source": [
        "**Import libraries and mount google drive**\n"
      ]
    },
    {
      "cell_type": "code",
      "metadata": {
        "id": "9RbvXYZLCLgG",
        "colab_type": "code",
        "colab": {
          "base_uri": "https://localhost:8080/",
          "height": 122
        },
        "outputId": "0ae129a0-ae95-48ed-ff4f-522dddcfa762"
      },
      "source": [
        "import pandas as pd\n",
        "import matplotlib.pyplot as plt\n",
        "import numpy as np\n",
        "\n",
        "from google.colab import drive\n",
        "drive.mount('/content/drive')\n"
      ],
      "execution_count": null,
      "outputs": [
        {
          "output_type": "stream",
          "text": [
            "Go to this URL in a browser: https://accounts.google.com/o/oauth2/auth?client_id=947318989803-6bn6qk8qdgf4n4g3pfee6491hc0brc4i.apps.googleusercontent.com&redirect_uri=urn%3aietf%3awg%3aoauth%3a2.0%3aoob&response_type=code&scope=email%20https%3a%2f%2fwww.googleapis.com%2fauth%2fdocs.test%20https%3a%2f%2fwww.googleapis.com%2fauth%2fdrive%20https%3a%2f%2fwww.googleapis.com%2fauth%2fdrive.photos.readonly%20https%3a%2f%2fwww.googleapis.com%2fauth%2fpeopleapi.readonly\n",
            "\n",
            "Enter your authorization code:\n",
            "··········\n",
            "Mounted at /content/drive\n"
          ],
          "name": "stdout"
        }
      ]
    },
    {
      "cell_type": "markdown",
      "metadata": {
        "id": "KL0iKGJeorSM",
        "colab_type": "text"
      },
      "source": [
        "**Select 2012 data**\n"
      ]
    },
    {
      "cell_type": "code",
      "metadata": {
        "id": "Fmm5bfvlQEB3",
        "colab_type": "code",
        "colab": {
          "base_uri": "https://localhost:8080/",
          "height": 459
        },
        "outputId": "11507bba-5357-4240-a96a-b7074feea7a7"
      },
      "source": [
        "path = \"/content/drive/My Drive/NIP-Data-Computation-Group-Drive/Datasets/PHL Customs Open Data/clean/csv/boc_lite_2012.csv\"\n",
        "df = pd.read_csv(path, index_col = 0)\n",
        "\n",
        "print('Percentage of import entries from each country:')\n",
        "print(df['countryorigin_iso3'].value_counts(normalize = True))\n",
        "\n",
        "print('Percentage of export entries from each country:')\n",
        "print(df['countryexport_iso3'].value_counts(normalize = True))\n"
      ],
      "execution_count": null,
      "outputs": [
        {
          "output_type": "stream",
          "text": [
            "Percentage of import entries from each country:\n",
            "CHN    2.744364e-01\n",
            "SGP    1.245371e-01\n",
            "JPN    1.115280e-01\n",
            "USA    9.421863e-02\n",
            "KOR    4.302932e-02\n",
            "           ...     \n",
            "BLZ    8.377820e-07\n",
            "SRB    8.377820e-07\n",
            "TCD    8.377820e-07\n",
            "KNA    8.377820e-07\n",
            "CCK    8.377820e-07\n",
            "Name: countryorigin_iso3, Length: 190, dtype: float64\n",
            "Percentage of export entries from each country:\n",
            "CHN    2.678691e-01\n",
            "SGP    1.304804e-01\n",
            "JPN    1.095383e-01\n",
            "USA    9.382153e-02\n",
            "HKG    4.232307e-02\n",
            "           ...     \n",
            "AZE    8.377820e-07\n",
            "REU    8.377820e-07\n",
            "ZAR    8.377820e-07\n",
            "ATG    8.377820e-07\n",
            "SHN    8.377820e-07\n",
            "Name: countryexport_iso3, Length: 184, dtype: float64\n"
          ],
          "name": "stdout"
        }
      ]
    },
    {
      "cell_type": "markdown",
      "metadata": {
        "id": "hsn9bVR9ZMUY",
        "colab_type": "text"
      },
      "source": [
        "**Show bar chart of top importers based on number of entries**\n"
      ]
    },
    {
      "cell_type": "code",
      "metadata": {
        "id": "KVhZjo7i4Bvn",
        "colab_type": "code",
        "colab": {
          "base_uri": "https://localhost:8080/",
          "height": 281
        },
        "outputId": "a88c6a5d-199c-4b0b-e7cf-8646a57f16d5"
      },
      "source": [
        "fr_chn = len(df[df['countryorigin_iso3'] == 'CHN'])\n",
        "fr_sgp = len(df[df['countryorigin_iso3'] == 'SGP'])\n",
        "fr_jpn = len(df[df['countryorigin_iso3'] == 'JPN'])\n",
        "fr_usa = len(df[df['countryorigin_iso3'] == 'USA'])\n",
        "fr_kor = len(df[df['countryorigin_iso3'] == 'KOR'])\n",
        "fr_countries = [fr_chn, fr_sgp, fr_jpn, fr_usa, fr_kor]\n",
        "countries = ['China', 'Singapore', 'Japan', 'USA', 'Korea']\n",
        "plt.barh(countries, fr_countries)\n",
        "plt.title('Top 5 number of import entries')\n",
        "plt.ylabel('Number of entries')\n",
        "plt.show()\n",
        "#Make horizontal"
      ],
      "execution_count": null,
      "outputs": [
        {
          "output_type": "display_data",
          "data": {
            "image/png": "[encoded data removed]",
            "text/plain": [
              "<Figure size 432x288 with 1 Axes>"
            ]
          },
          "metadata": {
            "tags": [],
            "needs_background": "light"
          }
        }
      ]
    },
    {
      "cell_type": "markdown",
      "metadata": {
        "id": "9MKUtN-lVa-S",
        "colab_type": "text"
      },
      "source": [
        "**Create a column for price * quantity and summing per country and getting the total values and mean values**\n"
      ]
    },
    {
      "cell_type": "code",
      "metadata": {
        "id": "vjPUjYgMSxhG",
        "colab_type": "code",
        "colab": {
          "base_uri": "https://localhost:8080/",
          "height": 255
        },
        "outputId": "168d0709-96e2-4ade-dd5c-8da45ed3b4da"
      },
      "source": [
        "df['pq'] = df['p'] * df['q']\n",
        "#adding a column named pq, defined as the value of each entry (price * quantity)\n",
        "\n",
        "pricequant_sum = df.groupby('countryorigin_iso3')['pq'].sum()\n",
        "print('TOTAL VALUE: ' + str(pricequant_sum.sort_values(ascending = False).head()))\n",
        "#getting the sum of values of all entries\n",
        "\n",
        "pricequant_mean = df.groupby('countryorigin_iso3')['pq'].mean()\n",
        "print('MEAN VALUE: ' + str(pricequant_mean.sort_values(ascending = False).head()))\n",
        "#getting the mean values of all entries"
      ],
      "execution_count": null,
      "outputs": [
        {
          "output_type": "stream",
          "text": [
            "TOTAL VALUE: countryorigin_iso3\n",
            "CHN    6.823864e+09\n",
            "KOR    4.091644e+09\n",
            "THA    3.704019e+09\n",
            "USA    3.558132e+09\n",
            "SAU    3.493042e+09\n",
            "Name: pq, dtype: float64\n",
            "MEAN VALUE: countryorigin_iso3\n",
            "RUS    4.057765e+06\n",
            "SAU    3.680761e+06\n",
            "TTO    3.400000e+06\n",
            "LBR    2.633447e+06\n",
            "IRN    2.615385e+06\n",
            "Name: pq, dtype: float64\n"
          ],
          "name": "stdout"
        }
      ]
    },
    {
      "cell_type": "markdown",
      "metadata": {
        "id": "iKQjcsJeZmdj",
        "colab_type": "text"
      },
      "source": [
        "**Show bar charts of total and mean values of goods in top 5 countries (using lists)**\n"
      ]
    },
    {
      "cell_type": "code",
      "metadata": {
        "id": "iBARfBmBa4_f",
        "colab_type": "code",
        "colab": {
          "base_uri": "https://localhost:8080/",
          "height": 294
        },
        "outputId": "f92e5ed0-0d99-42f3-c175-373b16b2fa35"
      },
      "source": [
        "sum_values = [6.823864e+09,4.091644e+09, 3.704019e+09,3.558132e+09,3.493042e+09 ]\n",
        "sum_countries = ['China', 'Korea', 'Thailand', 'USA', 'Saudi Arabia']\n",
        "plt.barh(sum_countries, sum_values)\n",
        "plt.ylabel('Total value of goods')\n",
        "plt.title('Total value per country')\n",
        "plt.show()"
      ],
      "execution_count": null,
      "outputs": [
        {
          "output_type": "display_data",
          "data": {
            "image/png": "[encoded data removed]",
            "text/plain": [
              "<Figure size 432x288 with 1 Axes>"
            ]
          },
          "metadata": {
            "tags": [],
            "needs_background": "light"
          }
        }
      ]
    },
    {
      "cell_type": "code",
      "metadata": {
        "id": "8TqlGxbqd4lr",
        "colab_type": "code",
        "colab": {
          "base_uri": "https://localhost:8080/",
          "height": 294
        },
        "outputId": "66f856ca-e1c0-404f-a394-23567736d024"
      },
      "source": [
        "mean_values = [4.057765e+06,3.680761e+06, 3.400000e+06,2.633447e+06,2.615385e+06 ]\n",
        "mean_countries = ['Russia', 'Saudi Arabia', 'Trinidad and Tobago', 'Liberia', 'Iran']\n",
        "plt.barh(mean_countries, mean_values)\n",
        "plt.ylabel('Average value of packages')\n",
        "plt.title('Average Values of packages per country')\n",
        "plt.show()"
      ],
      "execution_count": null,
      "outputs": [
        {
          "output_type": "display_data",
          "data": {
            "image/png": "[encoded data removed]",
            "text/plain": [
              "<Figure size 432x288 with 1 Axes>"
            ]
          },
          "metadata": {
            "tags": [],
            "needs_background": "light"
          }
        }
      ]
    },
    {
      "cell_type": "markdown",
      "metadata": {
        "id": "HRUL3gNHWd0f",
        "colab_type": "text"
      },
      "source": [
        "**Price and quantity per country**\n"
      ]
    },
    {
      "cell_type": "code",
      "metadata": {
        "id": "qevKMGCT8ZoW",
        "colab_type": "code",
        "colab": {
          "base_uri": "https://localhost:8080/",
          "height": 238
        },
        "outputId": "b43299b9-92a1-40b2-deb6-dcad8595d04b"
      },
      "source": [
        "quant = df.groupby('countryorigin_iso3')['q'].sum()\n",
        "print(quant.sort_values(ascending = False))"
      ],
      "execution_count": null,
      "outputs": [
        {
          "output_type": "stream",
          "text": [
            "countryorigin_iso3\n",
            "USA    2.972578e+10\n",
            "IDN    1.205431e+10\n",
            "CHN    7.463708e+09\n",
            "KOR    3.732634e+09\n",
            "SAU    3.731482e+09\n",
            "           ...     \n",
            "KGZ    1.047000e+01\n",
            "NIC    9.000000e+00\n",
            "SUR    8.760000e+00\n",
            "MDA    3.000000e+00\n",
            "GRL    3.000000e+00\n",
            "Name: q, Length: 190, dtype: float64\n"
          ],
          "name": "stdout"
        }
      ]
    },
    {
      "cell_type": "code",
      "metadata": {
        "id": "722wwAz3-AoG",
        "colab_type": "code",
        "colab": {
          "base_uri": "https://localhost:8080/",
          "height": 238
        },
        "outputId": "c8c4314b-4304-42a3-8e72-5275751571cc"
      },
      "source": [
        "price = df.groupby('countryorigin_iso3')['p'].sum()\n",
        "print(price.sort_values(ascending = False))"
      ],
      "execution_count": null,
      "outputs": [
        {
          "output_type": "stream",
          "text": [
            "countryorigin_iso3\n",
            "IRL    2.344530e+10\n",
            "SGP    8.999064e+07\n",
            "USA    8.056603e+07\n",
            "FIN    7.050621e+07\n",
            "CHN    4.462691e+07\n",
            "           ...     \n",
            "YEM    6.784692e-01\n",
            "ALB    5.496747e-01\n",
            "BHS    5.095087e-01\n",
            "VAT    4.707000e-01\n",
            "BLZ    1.000000e-01\n",
            "Name: p, Length: 190, dtype: float64\n"
          ],
          "name": "stdout"
        }
      ]
    },
    {
      "cell_type": "code",
      "metadata": {
        "id": "zjTtJIiYi8V3",
        "colab_type": "code",
        "colab": {
          "base_uri": "https://localhost:8080/",
          "height": 295
        },
        "outputId": "0003ea92-753e-4b9e-9006-303987b85099"
      },
      "source": [
        "plt.scatter(df['q'], df['p'])\n",
        "plt.xlabel('Quantity')\n",
        "plt.ylabel('Price per item')\n",
        "plt.title(\"Entries' price vs quantity\")\n",
        "plt.show()"
      ],
      "execution_count": null,
      "outputs": [
        {
          "output_type": "display_data",
          "data": {
            "image/png": "[encoded data removed]",
            "text/plain": [
              "<Figure size 432x288 with 1 Axes>"
            ]
          },
          "metadata": {
            "tags": [],
            "needs_background": "light"
          }
        }
      ]
    },
    {
      "cell_type": "code",
      "metadata": {
        "id": "7OhCa6vmN79a",
        "colab_type": "code",
        "colab": {
          "base_uri": "https://localhost:8080/",
          "height": 295
        },
        "outputId": "21407635-77e5-47d6-9176-9bb3f1b75ecb"
      },
      "source": [
        "plt.scatter(df['q'], df['p'])\n",
        "plt.xlabel('Quantity')\n",
        "plt.ylabel('Price per item')\n",
        "plt.ylim(0, 5000)\n",
        "plt.xlim(0,1000)\n",
        "plt.title(\"Entries' price vs quantity with limited axes\")\n",
        "plt.show()"
      ],
      "execution_count": null,
      "outputs": [
        {
          "output_type": "display_data",
          "data": {
            "image/png": "[encoded data removed]",
            "text/plain": [
              "<Figure size 432x288 with 1 Axes>"
            ]
          },
          "metadata": {
            "tags": [],
            "needs_background": "light"
          }
        }
      ]
    },
    {
      "cell_type": "markdown",
      "metadata": {
        "id": "QUJMPFCAkaDz",
        "colab_type": "text"
      },
      "source": [
        "**Check what countries sent the packages with high prices per item**\n"
      ]
    },
    {
      "cell_type": "code",
      "metadata": {
        "id": "hjODYbNYjzBT",
        "colab_type": "code",
        "colab": {
          "base_uri": "https://localhost:8080/",
          "height": 170
        },
        "outputId": "b8dc0dd5-141e-42a4-92a7-1cd295ee92fb"
      },
      "source": [
        "print(df[df['p'] > 50000000][['countryorigin_iso3','goodsdescription']])"
      ],
      "execution_count": null,
      "outputs": [
        {
          "output_type": "stream",
          "text": [
            "                countryorigin_iso3             goodsdescription\n",
            "uid                                                            \n",
            "2012q1 00103511                FIN  TELECOMMUNICATIONS EQUPMENT\n",
            "2012q1 00104978                IRL            AIRCRAFT A320-200\n",
            "2012q1 00124283                IRL            AIRCRAFT A320-200\n",
            "2012q1 00124288                IRL            AIRCRAFT A320-232\n",
            "2012q2 00120327                IRL              A320-200 AIRBUS\n",
            "2012q4 00143714                IRL              AIRBUS A320-200\n",
            "2012q4 00192328                IRL            AIRBUS DHC 8-Q314\n"
          ],
          "name": "stdout"
        }
      ]
    },
    {
      "cell_type": "markdown",
      "metadata": {
        "id": "MI8dq6bKktNe",
        "colab_type": "text"
      },
      "source": [
        "**Check what countries sent packages with high quantity of goods**\n"
      ]
    },
    {
      "cell_type": "code",
      "metadata": {
        "id": "omjPqUDQk2Uq",
        "colab_type": "code",
        "colab": {
          "base_uri": "https://localhost:8080/",
          "height": 68
        },
        "outputId": "308d8498-e411-4294-deb3-4c1cb8259891"
      },
      "source": [
        "print(df[df['q'] > 500000000][['countryorigin_iso3','goodsdescription']])"
      ],
      "execution_count": null,
      "outputs": [
        {
          "output_type": "stream",
          "text": [
            "                countryorigin_iso3              goodsdescription\n",
            "uid                                                             \n",
            "2012q4 00311929                USA  BETTER NORTHERN SPRING WHEAT\n"
          ],
          "name": "stdout"
        }
      ]
    },
    {
      "cell_type": "markdown",
      "metadata": {
        "id": "J_veJfk8dEzz",
        "colab_type": "text"
      },
      "source": [
        "**Check average price per unit item imported**"
      ]
    },
    {
      "cell_type": "code",
      "metadata": {
        "id": "yh26-WF5w9_l",
        "colab_type": "code",
        "colab": {
          "base_uri": "https://localhost:8080/",
          "height": 255
        },
        "outputId": "9b2f4832-5a23-4ed2-bfff-b0731f568bd7"
      },
      "source": [
        "ave_price = df.groupby('countryorigin_iso3')['p'].mean()\n",
        "print(\"The average price per item imported \")\n",
        "print(ave_price.sort_values(ascending = False))"
      ],
      "execution_count": null,
      "outputs": [
        {
          "output_type": "stream",
          "text": [
            "The average price per item imported \n",
            "countryorigin_iso3\n",
            "IRL    1.557828e+07\n",
            "FIN    3.040371e+04\n",
            "AUS    2.339819e+03\n",
            "MEX    1.573495e+03\n",
            "AGO    1.457781e+03\n",
            "           ...     \n",
            "ALB    5.496747e-01\n",
            "BHS    5.095087e-01\n",
            "VAT    4.707000e-01\n",
            "SLB    3.200966e-01\n",
            "BLZ    1.000000e-01\n",
            "Name: p, Length: 190, dtype: float64\n"
          ],
          "name": "stdout"
        }
      ]
    }
  ]
}