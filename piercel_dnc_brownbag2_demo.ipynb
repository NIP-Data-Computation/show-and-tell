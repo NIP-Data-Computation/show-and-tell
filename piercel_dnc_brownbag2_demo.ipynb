{
  "nbformat": 4,
  "nbformat_minor": 0,
  "metadata": {
    "colab": {
      "name": "piercel_dnc_brownbag2_demo.ipynb",
      "provenance": [],
      "collapsed_sections": [],
      "authorship_tag": "ABX9TyOu/q6LTpsufoRwQtsPO8UG",
      "include_colab_link": true
    },
    "kernelspec": {
      "name": "python3",
      "display_name": "Python 3"
    }
  },
  "cells": [
    {
      "cell_type": "markdown",
      "metadata": {
        "id": "view-in-github",
        "colab_type": "text"
      },
      "source": [
        "<a href=\"https://colab.research.google.com/github/NIP-Data-Computation/show-and-tell/blob/master/piercel_dnc_brownbag2_demo.ipynb\" target=\"_parent\"><img src=\"https://colab.research.google.com/assets/colab-badge.svg\" alt=\"Open In Colab\"/></a>"
      ]
    },
    {
      "cell_type": "markdown",
      "metadata": {
        "id": "1O4pfEtMSxsd"
      },
      "source": [
        "Importing necessary packages"
      ]
    },
    {
      "cell_type": "code",
      "metadata": {
        "id": "UlaiqYZETqa9"
      },
      "source": [
        "# to get a sample dataset to work on, implement support vector \n",
        "# machines, and calculate performance metrics\n",
        "from sklearn import datasets, svm, metrics\n",
        "\n",
        "# to facilitate splitting, training, and testing\n",
        "from sklearn.model_selection import train_test_split\n",
        "\n",
        "# to visualize\n",
        "import matplotlib.pyplot as plt"
      ],
      "execution_count": 9,
      "outputs": []
    },
    {
      "cell_type": "markdown",
      "metadata": {
        "id": "o9d7R_ooHqBk"
      },
      "source": [
        "Loading a sample dataset to work on\n"
      ]
    },
    {
      "cell_type": "code",
      "metadata": {
        "id": "8fHbyolwTyXF",
        "outputId": "9463a21f-8052-4bb3-8c9d-2c8adc231f73",
        "colab": {
          "base_uri": "https://localhost:8080/",
          "height": 221
        }
      },
      "source": [
        "# obtain sample breast cancer data\n",
        "cancer = datasets.load_breast_cancer()\n",
        "\n",
        "# display data features and labels (target variable)\n",
        "print(\"Features: \", cancer.feature_names)\n",
        "print(\"Labels: \", cancer.target_names)\n",
        "\n",
        "# get to know the shape of the dataset (number of \n",
        "# samples and number of features)\n",
        "print(\"Number of samples:\", cancer.data.shape[0])\n",
        "print(\"Number of features:\", cancer.data.shape[1])"
      ],
      "execution_count": 10,
      "outputs": [
        {
          "output_type": "stream",
          "text": [
            "Features:  ['mean radius' 'mean texture' 'mean perimeter' 'mean area'\n",
            " 'mean smoothness' 'mean compactness' 'mean concavity'\n",
            " 'mean concave points' 'mean symmetry' 'mean fractal dimension'\n",
            " 'radius error' 'texture error' 'perimeter error' 'area error'\n",
            " 'smoothness error' 'compactness error' 'concavity error'\n",
            " 'concave points error' 'symmetry error' 'fractal dimension error'\n",
            " 'worst radius' 'worst texture' 'worst perimeter' 'worst area'\n",
            " 'worst smoothness' 'worst compactness' 'worst concavity'\n",
            " 'worst concave points' 'worst symmetry' 'worst fractal dimension']\n",
            "Labels:  ['malignant' 'benign']\n",
            "Number of samples: 569\n",
            "Number of features: 30\n"
          ],
          "name": "stdout"
        }
      ]
    },
    {
      "cell_type": "markdown",
      "metadata": {
        "id": "aL4hOUDHH8G-"
      },
      "source": [
        "Taking a subset of the original dataset (using two features)"
      ]
    },
    {
      "cell_type": "code",
      "metadata": {
        "id": "qgVNyKK6H3kb"
      },
      "source": [
        "# take a subset of original dataset\n",
        "cancer_subfeatures = cancer.data[:, :2]"
      ],
      "execution_count": 11,
      "outputs": []
    },
    {
      "cell_type": "markdown",
      "metadata": {
        "id": "qMXyc5hzJLG_"
      },
      "source": [
        "Splitting input data to training and test sets"
      ]
    },
    {
      "cell_type": "code",
      "metadata": {
        "id": "-LfQ3BrdVjzX"
      },
      "source": [
        "# facilitate training and testing\n",
        "x_train, x_test, y_train, y_test = train_test_split(cancer_subfeatures,\n",
        "                                                    cancer.target,\n",
        "                                                    test_size = 0.2,\n",
        "                                                    random_state = 10)"
      ],
      "execution_count": 12,
      "outputs": []
    },
    {
      "cell_type": "markdown",
      "metadata": {
        "id": "svV5sJfnJYvW"
      },
      "source": [
        "Creating an SVM classifier and making it learn using the training set"
      ]
    },
    {
      "cell_type": "code",
      "metadata": {
        "id": "MMuw0S3fWdyu",
        "outputId": "ad0fca78-f112-47d1-b116-d73a90a75cd2",
        "colab": {
          "base_uri": "https://localhost:8080/",
          "height": 85
        }
      },
      "source": [
        "# make a support vector machine classifier\n",
        "clf = svm.SVC(kernel = 'linear')\n",
        "\n",
        "# train the model using the allocated training sets\n",
        "clf.fit(x_train, y_train)"
      ],
      "execution_count": 13,
      "outputs": [
        {
          "output_type": "execute_result",
          "data": {
            "text/plain": [
              "SVC(C=1.0, break_ties=False, cache_size=200, class_weight=None, coef0=0.0,\n",
              "    decision_function_shape='ovr', degree=3, gamma='scale', kernel='linear',\n",
              "    max_iter=-1, probability=False, random_state=None, shrinking=True,\n",
              "    tol=0.001, verbose=False)"
            ]
          },
          "metadata": {
            "tags": []
          },
          "execution_count": 13
        }
      ]
    },
    {
      "cell_type": "markdown",
      "metadata": {
        "id": "PVb85ct0JlXC"
      },
      "source": [
        "Using our trained classifier on the test set and calculating its performance"
      ]
    },
    {
      "cell_type": "code",
      "metadata": {
        "id": "PyRZ_WbHJkQM",
        "outputId": "fb3b90e0-9e00-47b3-f4c3-1746489f1351",
        "colab": {
          "base_uri": "https://localhost:8080/",
          "height": 85
        }
      },
      "source": [
        "# predict the response using our test dataset\n",
        "y_pred = clf.predict(x_test)\n",
        "\n",
        "print(\"accuracy:\", metrics.accuracy_score(y_test, y_pred))\n",
        "print(\"precision:\", metrics.precision_score(y_test, y_pred))\n",
        "print(\"recall:\", metrics.recall_score(y_test, y_pred))\n",
        "print(\"f1_score:\", metrics.f1_score(y_test, y_pred))"
      ],
      "execution_count": 14,
      "outputs": [
        {
          "output_type": "stream",
          "text": [
            "accuracy: 0.8508771929824561\n",
            "precision: 0.881578947368421\n",
            "recall: 0.8933333333333333\n",
            "f1_score: 0.8874172185430463\n"
          ],
          "name": "stdout"
        }
      ]
    },
    {
      "cell_type": "markdown",
      "metadata": {
        "id": "yOugSIuzKUrK"
      },
      "source": [
        "Visualizing the feature datapoints used"
      ]
    },
    {
      "cell_type": "code",
      "metadata": {
        "id": "uTSFdAhWJHNg",
        "outputId": "e57004aa-2b03-4985-ab3d-d2dfbbac3eae",
        "colab": {
          "base_uri": "https://localhost:8080/",
          "height": 279
        }
      },
      "source": [
        "# plot feature points\n",
        "cancer_mal = cancer_subfeatures[cancer.target == 0]\n",
        "cancer_ben = cancer_subfeatures[cancer.target == 1]\n",
        "\n",
        "plt.scatter(cancer_mal[:,0], \n",
        "            cancer_mal[:,1], \n",
        "            c='r',\n",
        "            label=cancer.target_names[0])\n",
        "\n",
        "plt.scatter(cancer_ben[:,0], \n",
        "            cancer_ben[:,1], \n",
        "            c='b',\n",
        "            label=cancer.target_names[1])\n",
        "\n",
        "plt.xlabel(cancer.feature_names[0])\n",
        "plt.ylabel(cancer.feature_names[1])\n",
        "plt.legend()\n",
        "plt.show()"
      ],
      "execution_count": 15,
      "outputs": [
        {
          "output_type": "display_data",
          "data": {
            "image/png": "[encoded data removed]",
            "text/plain": [
              "<Figure size 432x288 with 1 Axes>"
            ]
          },
          "metadata": {
            "tags": [],
            "needs_background": "light"
          }
        }
      ]
    }
  ]
}